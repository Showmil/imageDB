{
 "cells": [
  {
   "cell_type": "code",
   "execution_count": 1,
   "metadata": {},
   "outputs": [
    {
     "name": "stdout",
     "output_type": "stream",
     "text": [
      "Requirement already satisfied: mysql-connector-python in c:\\users\\hilyh\\appdata\\local\\programs\\python\\python312\\lib\\site-packages (8.4.0)\n",
      "Requirement already satisfied: Pillow in c:\\users\\hilyh\\appdata\\local\\programs\\python\\python312\\lib\\site-packages (10.3.0)\n",
      "Note: you may need to restart the kernel to use updated packages.\n"
     ]
    }
   ],
   "source": [
    "pip install mysql-connector-python Pillow"
   ]
  },
  {
   "cell_type": "code",
   "execution_count": 1,
   "metadata": {},
   "outputs": [],
   "source": [
    "import mysql.connector\n",
    "\n",
    "def create_db_connection():\n",
    "    return mysql.connector.connect(\n",
    "        host='localhost',\n",
    "        user='root',\n",
    "        password='',\n",
    "        database='color_db'\n",
    "    )"
   ]
  },
  {
   "cell_type": "code",
   "execution_count": 2,
   "metadata": {},
   "outputs": [],
   "source": [
    "from PIL import Image\n",
    "import io\n",
    "\n",
    "def upload_image(image_path):\n",
    "    conn = create_db_connection()\n",
    "    cursor = conn.cursor()\n",
    "    \n",
    "    # 이미지 열기 및 속성 얻기\n",
    "    with Image.open(image_path) as img:\n",
    "        img_byte_arr = io.BytesIO()\n",
    "        img.save(img_byte_arr, format=img.format)\n",
    "        img_bytes = img_byte_arr.getvalue()\n",
    "        \n",
    "        # 이미지 속성\n",
    "        file_name = image_path.split('/')[-1]\n",
    "        extension = img.format\n",
    "        file_size = len(img_bytes)\n",
    "        width, height = img.size\n",
    "    \n",
    "    # SQL 쿼리 준비\n",
    "    sql = \"\"\"INSERT INTO blob_image (f_id, fname, extname, fsize, f_width, f_height, f_data) \n",
    "             VALUES (%s, %s, %s, %s, %s, %s, %s)\"\"\"\n",
    "    values = (1, file_name, extension, file_size, width, height, img_bytes)\n",
    "    \n",
    "    # 실행 및 커밋\n",
    "    cursor.execute(sql, values)\n",
    "    conn.commit()\n",
    "    cursor.close()\n",
    "    conn.close()\n",
    "\n",
    "    print(\"이미지가 성공적으로 업로드 되었습니다!\")\n"
   ]
  },
  {
   "cell_type": "code",
   "execution_count": 3,
   "metadata": {},
   "outputs": [],
   "source": [
    "import os\n",
    "\n",
    "def download_image(file_id, output_path):\n",
    "    conn = create_db_connection()\n",
    "    cursor = conn.cursor()\n",
    "    \n",
    "    # 이미지 검색을 위한 SQL\n",
    "    sql = \"SELECT fname, extname, f_data FROM blob_image WHERE f_id = %s\"\n",
    "    cursor.execute(sql, (file_id,))\n",
    "    file_name, extension, img_data = cursor.fetchone()\n",
    "    \n",
    "    # 다운로드할 경로 확인 및 생성\n",
    "    if not os.path.exists(output_path):\n",
    "        os.makedirs(output_path)  # 경로가 없으면 생성\n",
    "    \n",
    "    # 파일로 이미지 데이터 쓰기\n",
    "    full_path = os.path.join(output_path, file_name)\n",
    "    with open(full_path, 'wb') as f:\n",
    "        f.write(img_data)\n",
    "    \n",
    "    cursor.close()\n",
    "    conn.close()\n",
    "\n",
    "    print(f\"{output_path}/{file_name}에 이미지가 성공적으로 다운로드 되었습니다.\")\n"
   ]
  },
  {
   "cell_type": "code",
   "execution_count": 5,
   "metadata": {},
   "outputs": [
    {
     "name": "stdout",
     "output_type": "stream",
     "text": [
      "이미지가 성공적으로 업로드 되었습니다!\n"
     ]
    }
   ],
   "source": [
    "image_to_upload = \"\"  # 업로드할 이미지의 경로\n",
    "upload_image(image_to_upload)"
   ]
  },
  {
   "cell_type": "code",
   "execution_count": 6,
   "metadata": {},
   "outputs": [
    {
     "name": "stdout",
     "output_type": "stream",
     "text": [
      "downloadimage/testimage.jpg에 이미지가 성공적으로 다운로드 되었습니다.\n"
     ]
    }
   ],
   "source": [
    "file_id_to_download = 1  # 데이터베이스에서 다운로드할 이미지의 파일 ID\n",
    "download_path = \"\"  # 이미지를 저장할 경로\n",
    "download_image(file_id_to_download, download_path)"
   ]
  }
 ],
 "metadata": {
  "kernelspec": {
   "display_name": "Python 3",
   "language": "python",
   "name": "python3"
  },
  "language_info": {
   "codemirror_mode": {
    "name": "ipython",
    "version": 3
   },
   "file_extension": ".py",
   "mimetype": "text/x-python",
   "name": "python",
   "nbconvert_exporter": "python",
   "pygments_lexer": "ipython3",
   "version": "3.12.2"
  }
 },
 "nbformat": 4,
 "nbformat_minor": 2
}
