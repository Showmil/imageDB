{
  "cells": [
    {
      "cell_type": "markdown",
      "metadata": {
        "id": "view-in-github",
        "colab_type": "text"
      },
      "source": [
        "<a href=\"https://colab.research.google.com/github/Showmil/imageDB/blob/main/Week09_2021112485_%EC%9D%B4%EB%8F%99%EA%B7%A0.ipynb\" target=\"_parent\"><img src=\"https://colab.research.google.com/assets/colab-badge.svg\" alt=\"Open In Colab\"/></a>"
      ]
    },
    {
      "cell_type": "markdown",
      "metadata": {
        "id": "Gm6_OkAA0JBN"
      },
      "source": [
        "# Week09 Unsupervised Learning"
      ]
    },
    {
      "cell_type": "markdown",
      "metadata": {
        "id": "4rAoezroAJGe"
      },
      "source": [
        "- **Student ID** : 2021112485\n",
        "- **Name** : 이동균"
      ]
    },
    {
      "cell_type": "markdown",
      "metadata": {
        "id": "-Mz5F3Y_AJGe"
      },
      "source": [
        "- Write and run the code below (including Quiz) in jupyter notebook\n",
        "- After completion, rename the file, and summit the file to e-class\n",
        "- Submit file name : **“Week09_\\<StudentID\\>_\\<Name\\>.ipynb”**\n",
        "  - Ex) Week09\\_2020123456\\_홍길동.ipynb\n",
        "- Due : **Saturday 11:59pm**"
      ]
    },
    {
      "cell_type": "markdown",
      "metadata": {
        "id": "iVSwP0lA0JBN"
      },
      "source": [
        "# 1. K-means clustering"
      ]
    },
    {
      "cell_type": "markdown",
      "metadata": {
        "id": "QSfmFuuiAJGf"
      },
      "source": [
        "![image.png](attachment:image.png)"
      ]
    },
    {
      "cell_type": "markdown",
      "metadata": {
        "id": "BuDE4R860JBP"
      },
      "source": [
        "### Make simple 2D data"
      ]
    },
    {
      "cell_type": "code",
      "execution_count": null,
      "metadata": {
        "id": "0SQHmNs60JBP",
        "outputId": "39ff932e-37c2-42eb-b8fb-a1486941dbf5"
      },
      "outputs": [
        {
          "data": {
            "text/plain": [
              "(150, 2)"
            ]
          },
          "execution_count": 1,
          "metadata": {},
          "output_type": "execute_result"
        }
      ],
      "source": [
        "import numpy as np\n",
        "from sklearn.datasets import make_blobs\n",
        "\n",
        "# make simple 2D data. use make_blobs(). 150 samples. 3 centers with std 0.7\n",
        "X, y = make_blobs(n_samples=150,\n",
        "                  n_features=2,\n",
        "                  centers=3,\n",
        "                  cluster_std=0.7,\n",
        "                  shuffle=True,\n",
        "                  random_state=0)\n",
        "X.shape"
      ]
    },
    {
      "cell_type": "code",
      "execution_count": null,
      "metadata": {
        "id": "i3Z5A74T0JBT",
        "outputId": "7398f90b-304e-4e13-cb38-e6d168dc7aa4"
      },
      "outputs": [
        {
          "data": {
            "image/png": "[encoded data removed]",
            "text/plain": [
              "<Figure size 432x288 with 1 Axes>"
            ]
          },
          "metadata": {
            "needs_background": "light"
          },
          "output_type": "display_data"
        }
      ],
      "source": [
        "import matplotlib.pyplot as plt\n",
        "\n",
        "# plot the data\n",
        "plt.scatter(X[:, 0], X[:, 1],\n",
        "            c='white', marker='o', edgecolor='black', s=50)\n",
        "\n",
        "plt.grid()\n",
        "plt.tight_layout()\n",
        "plt.show()"
      ]
    },
    {
      "cell_type": "markdown",
      "metadata": {
        "id": "3lqVEqq40JBW"
      },
      "source": [
        "### K-means clustering with k = 2"
      ]
    },
    {
      "cell_type": "code",
      "execution_count": null,
      "metadata": {
        "id": "d_ahpOdd0JBX",
        "outputId": "90cfe23b-017c-4de7-e71c-e86387d6f0db"
      },
      "outputs": [
        {
          "data": {
            "text/plain": [
              "array([1, 0, 0, 0, 1, 0, 0, 1, 0, 0, 1, 0, 0, 0, 0, 0, 0, 1, 0, 1, 0, 1,\n",
              "       0, 0, 0, 1, 1, 0, 0, 1, 0, 0, 0, 0, 0, 1, 1, 1, 0, 0, 0, 0, 0, 1,\n",
              "       1, 1, 0, 1, 0, 0, 1, 0, 0, 1, 1, 0, 0, 1, 0, 0, 0, 0, 0, 0, 0, 0,\n",
              "       0, 1, 0, 0, 0, 1, 1, 0, 1, 0, 0, 0, 0, 0, 1, 1, 0, 0, 1, 1, 1, 0,\n",
              "       0, 1, 1, 0, 1, 0, 1, 1, 0, 0, 1, 1, 1, 1, 0, 1, 1, 0, 0, 0, 0, 0,\n",
              "       0, 0, 1, 0, 0, 0, 0, 0, 0, 0, 0, 1, 0, 0, 1, 1, 0, 1, 0, 0, 0, 0,\n",
              "       1, 0, 0, 0, 0, 0, 1, 0, 0, 0, 1, 1, 0, 0, 0, 0, 1, 1])"
            ]
          },
          "execution_count": 3,
          "metadata": {},
          "output_type": "execute_result"
        }
      ],
      "source": [
        "from sklearn.cluster import KMeans\n",
        "\n",
        "# KMeans with k = 2\n",
        "km = KMeans(n_clusters=2,\n",
        "            init='random',\n",
        "            max_iter=300,\n",
        "            random_state=0)\n",
        "\n",
        "# cluster assignment\n",
        "y_km = km.fit_predict(X)\n",
        "y_km"
      ]
    },
    {
      "cell_type": "code",
      "execution_count": null,
      "metadata": {
        "id": "AZ-jrYxf0JBZ",
        "outputId": "facdfeda-5ac9-4f0a-9efd-850cf7c12249"
      },
      "outputs": [
        {
          "name": "stdout",
          "output_type": "stream",
          "text": [
            "<Cluster centers>\n",
            " [[-0.40990229  3.65592751]\n",
            " [ 2.08306622  1.07671155]]\n"
          ]
        }
      ],
      "source": [
        "# cluster centers\n",
        "print('<Cluster centers>\\n', km.cluster_centers_)"
      ]
    },
    {
      "cell_type": "markdown",
      "metadata": {
        "id": "-VMBGIqAAJGj"
      },
      "source": [
        "### Plot the cluster assignment"
      ]
    },
    {
      "cell_type": "code",
      "execution_count": null,
      "metadata": {
        "id": "S5R6KNya0JBd",
        "outputId": "8bb6bfd6-30b7-464d-9d79-617524f30702"
      },
      "outputs": [
        {
          "data": {
            "image/png": "[encoded data removed]",
            "text/plain": [
              "<Figure size 432x288 with 1 Axes>"
            ]
          },
          "metadata": {
            "needs_background": "light"
          },
          "output_type": "display_data"
        }
      ],
      "source": [
        "# plotting clusters 0 and 1\n",
        "plt.scatter(X[y_km == 0, 0],\n",
        "            X[y_km == 0, 1],\n",
        "            s=50, c='red', edgecolor='black',\n",
        "            label='cluster 1')\n",
        "plt.scatter(X[y_km == 1, 0],\n",
        "            X[y_km == 1, 1],\n",
        "            s=50, c='blue', edgecolor='black',\n",
        "            label='cluster 2')\n",
        "\n",
        "# mark cluster centers\n",
        "plt.scatter(km.cluster_centers_[:, 0],\n",
        "            km.cluster_centers_[:, 1],\n",
        "            s=250, marker='*', c='yellow', edgecolor='black',\n",
        "            label='centroids')\n",
        "\n",
        "plt.legend()\n",
        "plt.grid()\n",
        "plt.tight_layout()\n",
        "plt.show()"
      ]
    },
    {
      "cell_type": "markdown",
      "metadata": {
        "id": "NWT4hljpAJGj"
      },
      "source": [
        "### K-means clustering with k = 3"
      ]
    },
    {
      "cell_type": "code",
      "execution_count": null,
      "metadata": {
        "id": "2m7SbrzQ0JBg",
        "outputId": "1b6af447-007c-479a-ea17-a45a90457e67"
      },
      "outputs": [
        {
          "data": {
            "text/plain": [
              "array([0, 1, 1, 1, 0, 1, 1, 0, 2, 1, 0, 2, 2, 1, 1, 2, 2, 0, 2, 0, 1, 0,\n",
              "       1, 1, 2, 0, 0, 1, 2, 0, 2, 2, 2, 2, 1, 0, 0, 0, 1, 1, 2, 2, 1, 0,\n",
              "       0, 0, 2, 1, 2, 1, 0, 1, 1, 0, 0, 2, 1, 0, 2, 1, 2, 2, 2, 2, 1, 2,\n",
              "       1, 0, 1, 1, 1, 0, 0, 1, 0, 1, 1, 2, 2, 1, 0, 0, 1, 1, 0, 0, 0, 2,\n",
              "       2, 0, 0, 1, 0, 1, 0, 1, 2, 2, 0, 0, 0, 0, 2, 0, 0, 1, 2, 1, 1, 1,\n",
              "       2, 1, 0, 2, 1, 2, 1, 1, 2, 2, 1, 0, 1, 1, 0, 0, 2, 0, 2, 2, 2, 2,\n",
              "       0, 2, 2, 2, 1, 2, 0, 2, 1, 1, 0, 0, 2, 2, 2, 2, 0, 0])"
            ]
          },
          "execution_count": 6,
          "metadata": {},
          "output_type": "execute_result"
        }
      ],
      "source": [
        "from sklearn.cluster import KMeans\n",
        "\n",
        "# KMeans with k = 3\n",
        "km = KMeans(n_clusters=3,\n",
        "            init='random',\n",
        "            max_iter=300,\n",
        "            random_state=0)\n",
        "\n",
        "# cluster assignment\n",
        "y_km = km.fit_predict(X)\n",
        "y_km"
      ]
    },
    {
      "cell_type": "code",
      "execution_count": null,
      "metadata": {
        "id": "uVpEdbqJ0JBj",
        "outputId": "fb4e2dcb-b098-4fdf-8a19-554b069883c8"
      },
      "outputs": [
        {
          "name": "stdout",
          "output_type": "stream",
          "text": [
            "<Cluster centers>\n",
            " [[ 2.06919739  0.98685826]\n",
            " [ 0.91564311  4.37437504]\n",
            " [-1.62186012  2.92416462]]\n"
          ]
        }
      ],
      "source": [
        "# cluster centers\n",
        "print('<Cluster centers>\\n', km.cluster_centers_)"
      ]
    },
    {
      "cell_type": "markdown",
      "metadata": {
        "id": "5rCGo5JuAJGk"
      },
      "source": [
        "### Plot the cluster assignment"
      ]
    },
    {
      "cell_type": "code",
      "execution_count": null,
      "metadata": {
        "id": "aeabCqPI0JBm",
        "outputId": "eb345c34-7a6d-4fb9-b7f7-d395dd14dc41"
      },
      "outputs": [
        {
          "data": {
            "image/png": "[encoded data removed]",
            "text/plain": [
              "<Figure size 432x288 with 1 Axes>"
            ]
          },
          "metadata": {
            "needs_background": "light"
          },
          "output_type": "display_data"
        }
      ],
      "source": [
        "# plotting clusters 0, 1, 2\n",
        "plt.scatter(X[y_km == 0, 0],\n",
        "            X[y_km == 0, 1],\n",
        "            s=50, c='red', edgecolor='black',\n",
        "            label='cluster 1')\n",
        "plt.scatter(X[y_km == 1, 0],\n",
        "            X[y_km == 1, 1],\n",
        "            s=50, c='blue', edgecolor='black',\n",
        "            label='cluster 2')\n",
        "plt.scatter(X[y_km == 2, 0],\n",
        "            X[y_km == 2, 1],\n",
        "            s=50, c='lightgreen', edgecolor='black',\n",
        "            label='cluster 3')\n",
        "\n",
        "# mark cluster centers\n",
        "plt.scatter(km.cluster_centers_[:, 0],\n",
        "            km.cluster_centers_[:, 1],\n",
        "            s=250, marker='*',\n",
        "            c='yellow', edgecolor='black',\n",
        "            label='centroids')\n",
        "\n",
        "plt.legend()\n",
        "plt.grid()\n",
        "plt.tight_layout()\n",
        "plt.show()"
      ]
    },
    {
      "cell_type": "markdown",
      "metadata": {
        "id": "_oNmbqqy0JBp"
      },
      "source": [
        "### Using the elbow method to find the optimal number of clusters\n",
        "![image-2.png](attachment:image-2.png)"
      ]
    },
    {
      "cell_type": "code",
      "execution_count": null,
      "metadata": {
        "id": "mGY7CLzq0JBq",
        "outputId": "751510e7-dd09-4e9f-fef4-8ddd57f8c3aa"
      },
      "outputs": [
        {
          "name": "stdout",
          "output_type": "stream",
          "text": [
            "Distortion when k = 3: 142.05\n"
          ]
        }
      ],
      "source": [
        "# distortion\n",
        "print('Distortion when k = 3: %.2f' % km.inertia_)"
      ]
    },
    {
      "cell_type": "code",
      "execution_count": null,
      "metadata": {
        "id": "aKxJglqO0JBt",
        "outputId": "b9a46dc8-79f2-4c72-c922-b2c87e076df9"
      },
      "outputs": [
        {
          "name": "stderr",
          "output_type": "stream",
          "text": [
            "C:\\Users\\win\\anaconda3\\lib\\site-packages\\sklearn\\cluster\\_kmeans.py:1036: UserWarning: KMeans is known to have a memory leak on Windows with MKL, when there are less chunks than available threads. You can avoid it by setting the environment variable OMP_NUM_THREADS=1.\n",
            "  warnings.warn(\n"
          ]
        },
        {
          "data": {
            "image/png": "[encoded data removed]",
            "text/plain": [
              "<Figure size 432x288 with 1 Axes>"
            ]
          },
          "metadata": {
            "needs_background": "light"
          },
          "output_type": "display_data"
        }
      ],
      "source": [
        "# plotting distortions for k = 1 to 11\n",
        "distortions = []\n",
        "for i in range(1, 11):\n",
        "    km = KMeans(n_clusters=i,\n",
        "                init='k-means++',\n",
        "                max_iter=300,\n",
        "                random_state=0)\n",
        "    km.fit(X)\n",
        "    distortions.append(km.inertia_)\n",
        "\n",
        "plt.plot(range(1, 11), distortions, marker='o')\n",
        "plt.xlabel('Number of clusters')\n",
        "plt.ylabel('Distortion')\n",
        "plt.tight_layout()\n",
        "plt.show()"
      ]
    },
    {
      "cell_type": "markdown",
      "metadata": {
        "id": "ejsf1zZI0JBw"
      },
      "source": [
        "### Measuring the quality of clustering via silhouette analysis\n",
        "![image.png](attachment:image.png)"
      ]
    },
    {
      "cell_type": "code",
      "execution_count": null,
      "metadata": {
        "id": "myS4NQsI0JBw",
        "outputId": "c5ac70ae-dffa-49c6-9ad8-e4eb0f63f22f"
      },
      "outputs": [
        {
          "data": {
            "image/png": "[encoded data removed]",
            "text/plain": [
              "<Figure size 432x288 with 1 Axes>"
            ]
          },
          "metadata": {
            "needs_background": "light"
          },
          "output_type": "display_data"
        }
      ],
      "source": [
        "from sklearn.metrics import silhouette_score\n",
        "\n",
        "# plotting silhouette scores for k = 2 to 11\n",
        "silhouette_scores = []\n",
        "for i in range(2, 11):\n",
        "    km = KMeans(n_clusters=i,\n",
        "                init='k-means++',\n",
        "                max_iter=300,\n",
        "                random_state=0)\n",
        "    y_km = km.fit_predict(X)\n",
        "    silhouette_scores.append(silhouette_score(X, y_km, metric='euclidean'))\n",
        "\n",
        "plt.plot(range(2, 11), silhouette_scores, marker='o')\n",
        "plt.xlabel('Number of clusters')\n",
        "plt.ylabel('Silhouette score')\n",
        "plt.tight_layout()\n",
        "\n",
        "plt.show()"
      ]
    },
    {
      "cell_type": "markdown",
      "metadata": {
        "id": "dj9nc1XQ0JBz"
      },
      "source": [
        "### Make simple 3D data"
      ]
    },
    {
      "cell_type": "code",
      "execution_count": null,
      "metadata": {
        "id": "grWqG1er0JB0",
        "outputId": "ebb80fe6-43eb-4dd2-bbbf-07182d3b29a9"
      },
      "outputs": [
        {
          "data": {
            "text/plain": [
              "array([[-3.39728039e+00, -5.68481881e+00, -9.98918018e+00],\n",
              "       [ 2.16523547e+00, -7.83276703e-01,  2.97305873e+00],\n",
              "       [-4.44837858e+00, -7.51513713e+00, -7.39384434e+00],\n",
              "       [ 2.22011020e+00, -6.93684536e-01,  1.06133408e+00],\n",
              "       [-3.15546739e+00,  3.24489542e+00, -1.02192204e+01],\n",
              "       [-4.14356099e+00, -2.94048011e+00,  1.26123882e+00],\n",
              "       [-8.61251233e+00, -5.82831881e-01, -2.74916892e+00],\n",
              "       [-1.58934297e+00, -2.82631271e+00,  2.19644120e+00],\n",
              "       [-4.36826788e+00, -3.95726696e+00,  4.37577628e-01],\n",
              "       [-1.29713137e+00,  5.53517960e+00, -1.11307330e+01],\n",
              "       [-1.23775584e+00,  5.25004818e+00, -8.83386214e+00],\n",
              "       [-4.48326991e+00, -4.85031773e+00, -1.08507011e+01],\n",
              "       [ 2.42449759e+00,  5.30153125e+00, -8.63094404e+00],\n",
              "       [-7.54426814e+00,  1.35286514e+01, -8.77169577e+00],\n",
              "       [-8.16266496e+00,  1.11530859e+01, -1.02818684e+01],\n",
              "       [-6.49544363e+00,  7.24673241e+00, -1.02226459e+01],\n",
              "       [-5.54513463e+00, -5.62441721e+00, -5.17000478e+00],\n",
              "       [-5.10064993e+00, -3.61910969e+00, -4.02521372e+00],\n",
              "       [ 8.72765631e-02,  4.18372313e+00, -1.20737900e+01],\n",
              "       [ 3.11085172e+00,  4.15872321e+00, -1.06460999e+01],\n",
              "       [-6.17358307e+00,  2.63035424e+00, -7.95387745e+00],\n",
              "       [-6.51563967e+00, -1.42432916e+00, -2.46610577e+00],\n",
              "       [-9.14896032e+00, -1.33187381e+00, -2.01372544e+00],\n",
              "       [-6.28740382e+00, -3.48938523e+00, -1.64502421e+00],\n",
              "       [-4.78579201e-01, -6.31334463e+00, -5.19671675e+00],\n",
              "       [-8.07132485e+00,  6.75843987e+00, -1.23616755e+01],\n",
              "       [-6.12428700e+00, -3.84975704e+00, -2.80215127e+00],\n",
              "       [ 8.91550760e-01,  5.34399751e-01,  4.49552814e+00],\n",
              "       [-3.30978360e+00, -4.38224652e+00, -7.86987774e+00],\n",
              "       [-3.37937312e+00,  7.95170513e+00, -1.22184386e+01],\n",
              "       [-6.26818084e+00,  1.10883543e+01, -7.46923576e+00],\n",
              "       [-4.77394615e-01,  4.92502169e+00,  3.09030881e+00],\n",
              "       [ 2.23340577e+00,  1.00803819e+00,  4.88277197e-01],\n",
              "       [-2.16096973e+00,  4.30343001e+00, -9.97145469e+00],\n",
              "       [-5.12615477e+00, -4.14488742e+00, -8.70938388e+00],\n",
              "       [ 2.70687087e+00, -2.11357079e+00,  5.88372315e+00],\n",
              "       [-5.12327641e+00,  8.46593635e+00, -5.62028321e+00],\n",
              "       [ 1.69176767e+00, -4.54035014e+00,  4.23156097e+00],\n",
              "       [-4.08029255e+00,  6.34845228e+00, -7.62422126e+00],\n",
              "       [-6.76246976e+00, -3.10550113e+00, -9.34126694e+00],\n",
              "       [-7.72637696e+00, -5.22123261e+00, -1.29487952e+00],\n",
              "       [-5.69998948e+00, -6.47375560e+00, -7.69022020e+00],\n",
              "       [-4.71872757e+00, -2.61907743e+00, -1.20445986e+00],\n",
              "       [-6.82489252e+00, -5.07926739e+00, -1.35852434e+00],\n",
              "       [ 3.68697344e+00, -2.15136882e+00,  7.79780729e+00],\n",
              "       [-3.51221479e-01, -2.00175153e+00,  1.58590735e+00],\n",
              "       [-2.77154304e+00, -6.98897204e+00, -1.00586761e+01],\n",
              "       [-7.41809001e+00, -2.59376836e+00, -5.49723156e+00],\n",
              "       [-1.41559965e+00, -2.39084371e-01, -1.90123837e-01],\n",
              "       [-5.23773211e+00, -1.02341068e+00, -5.37793248e-01],\n",
              "       [ 3.13526204e-01, -2.10898973e+00,  5.24032342e+00],\n",
              "       [-8.11368293e+00, -7.97173731e+00, -8.51121734e+00],\n",
              "       [-1.99608713e-01,  5.15247745e+00, -8.93009068e+00],\n",
              "       [-4.05247502e+00, -4.02002773e+00,  1.69274889e+00],\n",
              "       [-1.02144630e+01, -1.64726773e+00, -2.02427531e+00],\n",
              "       [-1.78454309e+00,  9.29181279e-01, -9.79138651e+00],\n",
              "       [ 1.18544594e+00, -2.85506551e-02,  3.76023688e+00],\n",
              "       [-5.21958134e+00, -6.11562785e+00, -9.12235413e+00],\n",
              "       [-4.07679268e+00, -6.58802860e+00, -8.00368320e+00],\n",
              "       [-6.99521017e+00,  5.61384376e+00, -1.01201843e+01],\n",
              "       [-5.77278309e+00,  7.11065068e+00, -1.18801362e+01],\n",
              "       [ 2.38654366e+00,  3.04503151e-01,  4.57428892e+00],\n",
              "       [-3.92025041e+00,  6.86677484e+00, -1.22354870e+01],\n",
              "       [-1.03805144e+00,  9.32974649e+00, -1.06299599e+01],\n",
              "       [-7.99269425e-01, -4.24453936e+00,  4.10160877e+00],\n",
              "       [ 1.06870237e-01, -2.19168727e+00,  3.55493360e+00],\n",
              "       [-4.18473806e+00, -7.35812239e+00, -4.61443102e+00],\n",
              "       [-6.91280027e+00, -3.11907972e+00, -2.30286918e+00],\n",
              "       [-4.01521278e+00,  8.88669757e+00, -9.70376713e+00],\n",
              "       [-5.81844166e+00, -4.06718096e-01,  2.38430855e-01],\n",
              "       [-2.64606803e+00, -7.24319208e+00, -6.35148481e+00],\n",
              "       [-7.34718326e-01,  5.77616285e+00, -1.11886332e+01],\n",
              "       [ 8.27391740e-01,  1.16243176e+00,  4.31275534e+00],\n",
              "       [ 6.24325133e-01,  2.14729955e+00, -1.16978173e+01],\n",
              "       [-5.93096191e+00,  5.06542041e+00, -1.11044197e+01],\n",
              "       [-6.99808765e+00, -2.44862743e+00, -5.16882494e-01],\n",
              "       [ 1.00483053e+00,  4.11401605e-01,  2.26432062e+00],\n",
              "       [ 3.20556694e+00, -1.18774678e+00,  4.58471691e+00],\n",
              "       [-1.73879611e-01, -5.53512458e+00,  6.21968047e+00],\n",
              "       [-1.06915235e+01, -3.56201687e+00,  1.40620180e+00],\n",
              "       [-4.56868540e+00,  6.92511346e+00, -6.66945934e+00],\n",
              "       [-5.65702338e+00, -6.88336504e+00, -5.82882316e+00],\n",
              "       [-2.47997494e+00,  9.00022207e+00, -6.62071840e+00],\n",
              "       [-4.36067534e+00,  6.06761921e+00, -9.77127642e+00],\n",
              "       [ 4.19006468e-01, -8.91826417e+00, -7.34953758e+00],\n",
              "       [-5.71670898e+00,  5.60214282e+00, -1.01677826e+01],\n",
              "       [ 2.88260275e+00,  1.95620279e-01,  5.43291144e+00],\n",
              "       [-5.14328712e+00, -2.98792812e+00, -2.67499691e+00],\n",
              "       [-2.58655535e-02,  6.77483249e+00, -1.04066736e+01],\n",
              "       [-2.43442327e+00, -6.23950183e+00, -5.81755444e+00],\n",
              "       [-2.88700458e+00, -8.23514826e+00, -9.27430194e+00],\n",
              "       [ 1.01885170e+00, -3.04658503e+00,  3.76041515e+00],\n",
              "       [-2.97740682e+00,  7.63352007e+00, -7.42071814e+00],\n",
              "       [-5.23852452e-01, -1.14978110e+00,  4.62536119e+00],\n",
              "       [-8.95940466e+00, -3.45023382e+00, -2.30306446e+00],\n",
              "       [-1.19389531e+00,  4.71727640e+00, -8.81026220e+00],\n",
              "       [-6.60032706e+00, -2.72932035e+00, -5.98987651e+00],\n",
              "       [-1.73154296e+00, -7.56061056e+00, -1.08100774e+01],\n",
              "       [-6.97117995e+00, -6.24334028e+00, -8.27417479e+00],\n",
              "       [-5.11335817e+00,  7.51209429e+00, -6.94026265e+00],\n",
              "       [-4.57118556e+00, -3.25039340e+00, -3.51988075e+00],\n",
              "       [ 6.83697748e-03, -1.58573142e+00,  2.07915052e+00],\n",
              "       [-6.99589229e+00,  9.22586885e+00, -6.41607149e+00],\n",
              "       [ 2.34923416e-01, -1.05361535e+00,  1.19634852e+00],\n",
              "       [-3.78144831e+00,  9.81398246e+00, -7.76708057e+00],\n",
              "       [-3.60981486e-01,  9.33766061e-01,  5.20585694e+00],\n",
              "       [-7.30828463e+00, -2.54678523e+00, -4.55775141e+00],\n",
              "       [-3.21488532e+00,  5.65161546e+00, -9.14258836e+00],\n",
              "       [-4.93836791e+00, -1.20185666e+00, -2.84720414e+00],\n",
              "       [-1.29742507e+00,  6.02146577e+00, -8.37264213e+00],\n",
              "       [-2.88708194e+00, -6.06289026e-01,  3.23506059e+00],\n",
              "       [-1.88124883e+00,  7.23545532e+00, -1.28310025e+01],\n",
              "       [-5.12619336e+00,  7.19390746e+00, -1.09759951e+01],\n",
              "       [-3.17490819e+00,  5.58307820e+00, -9.30399383e+00],\n",
              "       [-1.02345471e+01, -8.51555680e-01, -6.24930950e-01],\n",
              "       [-1.61378796e+00,  6.12095842e+00, -9.62985135e+00],\n",
              "       [-7.11158291e+00,  1.36909379e+01, -1.23409033e+01],\n",
              "       [-4.14505134e+00,  7.60545602e+00, -5.04887369e+00],\n",
              "       [ 8.76847730e-02,  1.93807638e-01,  4.31282192e+00],\n",
              "       [-6.80746972e+00, -3.83241571e+00, -2.87946512e+00],\n",
              "       [-2.85713256e+00,  6.87444750e+00, -1.21282935e+01],\n",
              "       [-1.26701949e+00,  6.22139219e+00, -1.42673821e+01],\n",
              "       [-5.96798692e+00,  1.06309610e+01, -1.18295859e+01],\n",
              "       [-1.97691567e+00, -6.69867404e+00, -6.30524212e+00],\n",
              "       [-1.51154070e+00,  3.50015266e+00, -8.78940522e+00],\n",
              "       [-3.02820446e+00, -8.89494863e+00, -6.38845115e+00],\n",
              "       [-3.46612608e+00, -1.12593634e+01, -9.05048937e+00],\n",
              "       [-1.25508180e+00,  5.31639435e+00, -1.07962488e+01],\n",
              "       [-1.14837523e+00, -6.62951708e+00, -8.32042702e+00],\n",
              "       [-6.84371494e-01,  7.88463592e+00, -9.85977289e+00],\n",
              "       [ 2.38452553e+00,  2.53824361e-01,  4.21734826e+00],\n",
              "       [ 3.61191055e-01,  4.54816316e+00, -8.56253285e+00],\n",
              "       [-6.35539585e+00, -7.22297014e+00, -6.57344141e+00],\n",
              "       [-9.29338056e+00, -4.06145132e+00, -2.39619184e+00],\n",
              "       [-1.96118599e+00, -3.77233709e+00,  3.11963887e+00],\n",
              "       [-2.90668066e+00, -6.23425968e+00, -6.98645304e+00],\n",
              "       [-7.75770419e+00, -4.51602917e-01, -2.68399026e+00],\n",
              "       [-1.03362679e+01, -2.57409993e+00, -1.70290807e+00],\n",
              "       [-2.08338575e+00,  1.31304173e+00, -7.90731125e+00],\n",
              "       [-3.51977572e+00, -2.91919160e+00, -3.08624278e+00],\n",
              "       [-8.45215421e+00,  6.11393711e+00, -9.29842200e+00],\n",
              "       [-1.10330221e+00,  4.26617632e+00, -8.73853665e+00],\n",
              "       [ 1.42949443e+00, -3.07191458e+00,  2.28752595e+00],\n",
              "       [-7.36682406e+00, -1.01550363e+01, -6.13844305e+00],\n",
              "       [-7.95880584e+00,  8.45389586e+00, -1.09139665e+01],\n",
              "       [-3.95978611e+00, -8.39780245e+00, -9.69690013e+00],\n",
              "       [-1.03452664e+00,  1.64074328e+00,  9.43935612e-01],\n",
              "       [ 1.39847982e+00, -1.18468072e+00,  2.75489432e+00],\n",
              "       [-1.84350650e+00,  8.23413064e+00, -9.33611824e+00],\n",
              "       [ 2.13675900e+00,  2.12165833e+00,  4.00580058e+00],\n",
              "       [-5.78763267e+00, -6.01597956e+00, -3.22460500e+00],\n",
              "       [-8.39136622e+00, -3.29268243e+00, -1.96921094e+00],\n",
              "       [ 1.25105234e+00, -4.83515224e+00,  2.91141823e+00],\n",
              "       [-5.76513775e+00, -3.22234101e+00, -7.79101193e-01],\n",
              "       [-3.27673902e+00, -6.50872893e+00, -5.70529634e+00],\n",
              "       [-8.50503911e+00, -3.35096496e+00, -3.38561114e+00],\n",
              "       [ 3.17651540e-01, -2.70507737e+00,  4.23571199e+00],\n",
              "       [-4.47959617e+00,  1.10267035e+01, -1.16446764e+01],\n",
              "       [-2.32420960e+00,  5.96078291e+00, -9.81701014e+00],\n",
              "       [-6.56855611e+00,  5.36986201e+00, -6.41041224e+00],\n",
              "       [-8.28986370e+00,  7.20880437e+00, -9.03238352e+00],\n",
              "       [-1.99910795e+00,  3.32420061e+00, -8.92181728e+00],\n",
              "       [-5.83030800e-01, -2.94083789e+00,  2.90944029e+00],\n",
              "       [-8.16010691e+00, -3.43298540e+00,  2.83804313e-01],\n",
              "       [ 1.24223287e+00, -7.79071341e+00, -9.98709710e+00],\n",
              "       [-3.62262224e+00, -7.00979346e+00, -9.45303564e+00],\n",
              "       [-5.68134739e+00, -4.96336001e+00, -2.02262796e+00],\n",
              "       [-3.67851956e+00,  2.28997675e+00, -8.68514435e+00],\n",
              "       [-7.87038038e+00,  8.37861283e+00, -7.59874808e+00],\n",
              "       [-8.56604164e+00,  1.69589162e-01, -1.75917711e+00],\n",
              "       [-7.15245551e+00,  9.51055442e+00, -9.18806433e+00],\n",
              "       [-5.91256534e+00,  1.16826963e+01, -1.04615781e+01],\n",
              "       [-7.29782106e-02,  2.40279531e-02,  6.81744216e-01],\n",
              "       [ 3.47969668e-01, -5.35552747e+00,  1.91947156e+00],\n",
              "       [-2.90289360e+00,  4.95792596e+00, -1.21790623e+01],\n",
              "       [-5.11161258e+00, -4.90301829e+00, -1.20179103e+00],\n",
              "       [-7.13077124e-01,  3.10577982e+00, -1.15559264e+01],\n",
              "       [-8.42761339e+00,  7.31158922e+00, -7.59908281e+00],\n",
              "       [-3.94342763e+00, -8.73199672e+00, -8.91194589e+00],\n",
              "       [-4.32654350e+00, -5.57836505e+00, -8.99158424e+00],\n",
              "       [-8.56843996e-01, -4.12855629e-01,  6.25596625e+00],\n",
              "       [ 2.30369559e+00,  1.22188745e+00,  2.95573595e+00],\n",
              "       [-6.41654157e+00, -4.57165764e+00, -3.24170061e+00],\n",
              "       [ 1.55545418e+00,  3.93013513e+00, -1.06793691e+01],\n",
              "       [-5.31041035e+00, -7.19666061e+00, -1.11213012e+01],\n",
              "       [-7.02996016e-02, -4.09984574e+00,  2.73233814e+00],\n",
              "       [-1.98370362e+00,  2.57188449e+00, -1.16252125e+01],\n",
              "       [ 3.38542574e-01,  3.79014839e+00, -9.26603582e+00],\n",
              "       [-6.01126952e+00, -5.85100152e+00, -1.18861290e+01],\n",
              "       [-3.74067366e+00,  8.17795397e+00, -8.48716373e+00],\n",
              "       [-5.59594158e+00, -2.95419150e+00, -1.65903839e+00],\n",
              "       [-4.87669935e+00, -5.39919821e+00,  5.08206763e+00],\n",
              "       [-8.67442689e+00,  5.24231117e+00, -1.15980958e+01],\n",
              "       [-1.07062416e+01,  5.05492045e+00, -1.19504354e+01],\n",
              "       [-6.55953417e+00, -1.47618575e+00, -3.43250677e+00],\n",
              "       [-5.21430223e+00, -1.96522632e-01,  2.08528528e-01],\n",
              "       [ 3.94582397e+00,  8.40364191e-01,  3.69046085e+00],\n",
              "       [-3.35604774e+00,  4.07329072e+00, -8.16332046e+00],\n",
              "       [-2.51460598e+00, -2.61533238e+00, -7.04290957e-01],\n",
              "       [ 2.39581173e+00, -4.49231945e+00,  7.02249522e+00],\n",
              "       [-3.08012301e+00, -6.98843890e+00, -5.17307410e+00],\n",
              "       [-1.49905873e+00,  4.86296742e+00, -1.17586661e+01],\n",
              "       [ 5.70179558e-01,  1.20261860e+00,  3.66316872e+00],\n",
              "       [-1.30848702e+00, -5.09856472e+00, -5.63884818e+00],\n",
              "       [-5.28640703e+00,  7.50138702e+00, -9.34759765e+00],\n",
              "       [-3.12532991e-01,  2.86190102e+00, -1.01854666e+01],\n",
              "       [-7.62929980e+00, -7.47700701e+00, -8.06891722e+00],\n",
              "       [-6.04394015e+00,  7.62513917e+00, -1.31888200e+01],\n",
              "       [-2.48140885e+00, -9.76760612e+00, -5.90477730e+00],\n",
              "       [ 2.62080102e-01,  3.97165352e+00, -9.68068273e+00],\n",
              "       [-4.38815505e+00,  6.70260134e+00, -7.21096789e+00],\n",
              "       [ 1.02258478e+00, -4.35530928e+00,  2.36955352e+00],\n",
              "       [-7.24993592e+00,  3.57151490e+00, -1.16972473e+01],\n",
              "       [-4.72316120e+00,  6.06294109e+00, -7.23106504e+00],\n",
              "       [-3.86559393e+00, -8.34755052e+00, -6.26339330e+00],\n",
              "       [-2.62324821e+00, -3.81317318e+00, -2.46780385e+00],\n",
              "       [-3.01222936e+00, -9.86203864e+00, -7.05546231e+00],\n",
              "       [-8.83134708e+00,  4.97728948e+00, -9.12935928e+00],\n",
              "       [-1.07720359e+00,  4.62261518e+00, -1.03967783e+01],\n",
              "       [-2.87953041e+00,  5.01931463e+00, -6.61406025e+00],\n",
              "       [-6.32040696e+00,  8.34392196e+00, -6.27406684e+00],\n",
              "       [-1.37101566e+00, -1.74231558e+00,  3.07092426e+00],\n",
              "       [-8.53782939e+00,  7.62588719e+00, -1.17955209e+01],\n",
              "       [-3.42186091e+00, -3.71635935e+00,  1.19139713e+00],\n",
              "       [-5.38044052e+00,  5.87866202e+00, -9.14736039e+00],\n",
              "       [ 1.07450550e+00,  5.75392202e+00, -1.25808379e+01],\n",
              "       [-8.76994596e-01,  8.83031962e+00, -1.03222018e+01],\n",
              "       [-5.77298884e+00,  6.65343315e+00, -8.52939032e+00],\n",
              "       [-3.02949475e+00,  7.39579158e+00, -1.15772344e+01],\n",
              "       [-2.49178307e+00,  6.90658996e+00, -7.50111293e+00],\n",
              "       [ 2.45993005e+00, -3.69924351e+00,  4.98883983e+00],\n",
              "       [-2.04531578e+00, -7.76763581e+00, -5.95143579e+00],\n",
              "       [-3.67180219e+00, -3.52968028e+00, -9.72877559e+00],\n",
              "       [-8.66980550e+00, -8.54051334e+00,  7.44044456e-01],\n",
              "       [ 1.23652210e-01, -3.03634275e+00,  1.69703599e+00],\n",
              "       [-5.47897327e+00, -5.30015186e+00, -9.83087260e+00],\n",
              "       [-5.03610610e+00, -4.61616974e+00, -1.34875957e-01],\n",
              "       [-5.28968545e+00,  5.77498887e+00, -9.93364745e+00],\n",
              "       [-3.75099447e+00, -4.86840592e+00, -7.92291729e+00],\n",
              "       [-4.07936964e-01,  1.18376224e+00, -9.87751703e+00],\n",
              "       [-5.04059353e+00, -4.89764692e+00, -7.90961593e+00],\n",
              "       [-6.37832810e+00, -1.13782927e+01, -9.95056335e+00],\n",
              "       [ 3.17958515e-01, -5.77938701e+00,  6.23832363e+00],\n",
              "       [-6.81434577e+00, -5.35599638e+00, -5.13952682e+00],\n",
              "       [-9.51975364e+00, -1.96107351e+00,  1.72693226e+00],\n",
              "       [-7.98575966e+00,  8.49466607e+00, -9.35605408e+00],\n",
              "       [-4.68171463e+00,  7.61546532e+00, -1.08564003e+01],\n",
              "       [-3.20157968e+00, -5.56878523e+00, -1.05301434e+01],\n",
              "       [-8.30448129e+00,  6.51430695e+00, -1.23638270e+01],\n",
              "       [-3.58690367e+00,  6.25826233e+00, -1.04473085e+01]])"
            ]
          },
          "execution_count": 12,
          "metadata": {},
          "output_type": "execute_result"
        }
      ],
      "source": [
        "from sklearn.datasets import make_blobs\n",
        "\n",
        "# make simple 3D data. use make_blobs(). 250 samples. 5 centers with std 2.0\n",
        "X, y = make_blobs(n_samples=250,\n",
        "                  n_features=3,\n",
        "                  centers=5,\n",
        "                  cluster_std=2.0,\n",
        "                  shuffle=True,\n",
        "                  random_state=1)\n",
        "X"
      ]
    },
    {
      "cell_type": "code",
      "execution_count": null,
      "metadata": {
        "id": "sUPXZZc70JB3",
        "outputId": "64943280-3674-42ce-c85f-c1467cc30e1e"
      },
      "outputs": [
        {
          "data": {
            "image/png": "[encoded data removed]",
            "text/plain": [
              "<Figure size 432x288 with 1 Axes>"
            ]
          },
          "metadata": {
            "needs_background": "light"
          },
          "output_type": "display_data"
        }
      ],
      "source": [
        "import matplotlib.pyplot as plt\n",
        "from mpl_toolkits.mplot3d import Axes3D\n",
        "\n",
        "# plot the data\n",
        "fig = plt.figure()\n",
        "ax = fig.add_subplot(111, projection='3d')\n",
        "\n",
        "ax.scatter(X[:, 0], X[:, 1], X[:, 2], s=50, c='white', edgecolor='black')\n",
        "plt.show()"
      ]
    },
    {
      "cell_type": "markdown",
      "metadata": {
        "id": "PXxjc6rg0JCC"
      },
      "source": [
        "### Using the elbow method to find the optimal number of clusters"
      ]
    },
    {
      "cell_type": "code",
      "execution_count": null,
      "metadata": {
        "id": "RZoA-2iC0JCD",
        "outputId": "8494dcde-8396-4267-8f9b-a83391ec6cee"
      },
      "outputs": [
        {
          "name": "stderr",
          "output_type": "stream",
          "text": [
            "C:\\Users\\win\\anaconda3\\lib\\site-packages\\sklearn\\cluster\\_kmeans.py:1036: UserWarning: KMeans is known to have a memory leak on Windows with MKL, when there are less chunks than available threads. You can avoid it by setting the environment variable OMP_NUM_THREADS=1.\n",
            "  warnings.warn(\n"
          ]
        },
        {
          "data": {
            "image/png": "[encoded data removed]",
            "text/plain": [
              "<Figure size 432x288 with 1 Axes>"
            ]
          },
          "metadata": {
            "needs_background": "light"
          },
          "output_type": "display_data"
        }
      ],
      "source": [
        "# plotting distortions for k = 1 to 11\n",
        "distortions = []\n",
        "for i in range(1, 11):\n",
        "    km = KMeans(n_clusters=i,\n",
        "                init='k-means++',\n",
        "                max_iter=300,\n",
        "                random_state=0)\n",
        "    km.fit(X)\n",
        "    distortions.append(km.inertia_)\n",
        "\n",
        "plt.plot(range(1, 11), distortions, marker='o')\n",
        "plt.xlabel('Number of clusters')\n",
        "plt.ylabel('Distortion')\n",
        "plt.tight_layout()\n",
        "\n",
        "plt.show()"
      ]
    },
    {
      "cell_type": "markdown",
      "metadata": {
        "id": "qjGVTZLx0JCF"
      },
      "source": [
        "### Measuring the quality of clustering via silhouette plots"
      ]
    },
    {
      "cell_type": "code",
      "execution_count": null,
      "metadata": {
        "id": "3KhccJBT0JCF",
        "outputId": "e8105d3b-5278-4cf1-e8da-e10cfa8d8e88"
      },
      "outputs": [
        {
          "data": {
            "image/png": "[encoded data removed]",
            "text/plain": [
              "<Figure size 432x288 with 1 Axes>"
            ]
          },
          "metadata": {
            "needs_background": "light"
          },
          "output_type": "display_data"
        }
      ],
      "source": [
        "# plotting silhouette scores for k = 1 to 11\n",
        "silhouette_scores = []\n",
        "for i in range(2, 11):\n",
        "    km = KMeans(n_clusters=i,\n",
        "                init='k-means++',\n",
        "                max_iter=300,\n",
        "                random_state=0)\n",
        "    y_km = km.fit_predict(X)\n",
        "    silhouette_scores.append(silhouette_score(X, y_km, metric='euclidean'))\n",
        "\n",
        "plt.plot(range(2, 11), silhouette_scores, marker='o')\n",
        "plt.xlabel('Number of clusters')\n",
        "plt.ylabel('Silhouette score')\n",
        "plt.tight_layout()\n",
        "\n",
        "plt.show()"
      ]
    },
    {
      "cell_type": "markdown",
      "metadata": {
        "id": "5xJtQttuAJGn"
      },
      "source": [
        "### K-means clustering with k = 4"
      ]
    },
    {
      "cell_type": "code",
      "execution_count": null,
      "metadata": {
        "id": "hDqqvVcy0JB6",
        "outputId": "99adc678-aa40-4eaf-cadd-8e004d8b2304"
      },
      "outputs": [
        {
          "data": {
            "text/plain": [
              "array([3, 0, 3, 0, 1, 2, 2, 0, 2, 1, 1, 3, 1, 1, 1, 1, 3, 2, 1, 1, 1, 2,\n",
              "       2, 2, 3, 1, 2, 0, 3, 1, 1, 0, 0, 1, 3, 0, 1, 0, 1, 3, 2, 3, 2, 2,\n",
              "       0, 0, 3, 2, 0, 2, 0, 3, 1, 2, 2, 1, 0, 3, 3, 1, 1, 0, 1, 1, 0, 0,\n",
              "       3, 2, 1, 2, 3, 1, 0, 1, 1, 2, 0, 0, 0, 2, 1, 3, 1, 1, 3, 1, 0, 2,\n",
              "       1, 3, 3, 0, 1, 0, 2, 1, 2, 3, 3, 1, 2, 0, 1, 0, 1, 0, 2, 1, 2, 1,\n",
              "       0, 1, 1, 1, 2, 1, 1, 1, 0, 2, 1, 1, 1, 3, 1, 3, 3, 1, 3, 1, 0, 1,\n",
              "       3, 2, 0, 3, 2, 2, 1, 2, 1, 1, 0, 3, 1, 3, 0, 0, 1, 0, 2, 2, 0, 2,\n",
              "       3, 2, 0, 1, 1, 1, 1, 1, 0, 2, 3, 3, 2, 1, 1, 2, 1, 1, 0, 0, 1, 2,\n",
              "       1, 1, 3, 3, 0, 0, 2, 1, 3, 0, 1, 1, 3, 1, 2, 0, 1, 1, 2, 2, 0, 1,\n",
              "       2, 0, 3, 1, 0, 3, 1, 1, 3, 1, 3, 1, 1, 0, 1, 1, 3, 2, 3, 1, 1, 1,\n",
              "       1, 0, 1, 2, 1, 1, 1, 1, 1, 1, 0, 3, 3, 2, 0, 3, 2, 1, 3, 1, 3, 3,\n",
              "       0, 2, 2, 1, 1, 3, 1, 1])"
            ]
          },
          "execution_count": 16,
          "metadata": {},
          "output_type": "execute_result"
        }
      ],
      "source": [
        "from sklearn.cluster import KMeans\n",
        "\n",
        "# KMeans with k = 4\n",
        "km = KMeans(n_clusters=4,\n",
        "            init='random',\n",
        "            max_iter=300,\n",
        "            random_state=0)\n",
        "\n",
        "# cluster assignment\n",
        "y_km = km.fit_predict(X)\n",
        "y_km"
      ]
    },
    {
      "cell_type": "code",
      "execution_count": null,
      "metadata": {
        "id": "vRpTVsCM0JB-",
        "outputId": "6c20318c-1744-4c90-b1b8-0178ed587f8e"
      },
      "outputs": [
        {
          "name": "stdout",
          "output_type": "stream",
          "text": [
            "<Cluster centers>\n",
            " [[ 0.624654   -1.52933863  3.56526381]\n",
            " [-3.77203253  6.3373781  -9.74242389]\n",
            " [-6.61478449 -3.05242561 -1.75271542]\n",
            " [-3.91688634 -6.92759128 -7.99331725]]\n"
          ]
        }
      ],
      "source": [
        "# cluster centers\n",
        "print('<Cluster centers>\\n', km.cluster_centers_)"
      ]
    },
    {
      "cell_type": "markdown",
      "metadata": {
        "id": "WolRjYviAJGo"
      },
      "source": [
        "### Plot the cluster assignment"
      ]
    },
    {
      "cell_type": "code",
      "execution_count": null,
      "metadata": {
        "id": "y4ZmZZP50JCA",
        "outputId": "3e796b07-c0c1-42a1-ec49-2f0999396a9f"
      },
      "outputs": [
        {
          "data": {
            "image/png": "[encoded data removed]",
            "text/plain": [
              "<Figure size 432x288 with 1 Axes>"
            ]
          },
          "metadata": {
            "needs_background": "light"
          },
          "output_type": "display_data"
        }
      ],
      "source": [
        "# plotting cluster assignment\n",
        "fig = plt.figure()\n",
        "ax = fig.add_subplot(111, projection='3d')\n",
        "\n",
        "ax.scatter(X[y_km == 0, 0], X[y_km == 0, 1], X[y_km == 0, 2],\n",
        "           s=50, c='red', edgecolor='black')\n",
        "ax.scatter(X[y_km == 1, 0], X[y_km == 1, 1], X[y_km == 1, 2],\n",
        "           s=50, c='blue', edgecolor='black')\n",
        "ax.scatter(X[y_km == 2, 0], X[y_km == 2, 1], X[y_km == 2, 2],\n",
        "           s=50, c='green', edgecolor='black')\n",
        "ax.scatter(X[y_km == 3, 0], X[y_km == 3, 1], X[y_km == 3, 2],\n",
        "           s=50, c='yellow', edgecolor='black')\n",
        "\n",
        "plt.show()"
      ]
    },
    {
      "cell_type": "markdown",
      "metadata": {
        "id": "5ToagGQg0JCH"
      },
      "source": [
        "---"
      ]
    },
    {
      "cell_type": "markdown",
      "metadata": {
        "id": "jrazW4jD0JDK"
      },
      "source": [
        "# 2. Hierarchical clustering"
      ]
    },
    {
      "cell_type": "markdown",
      "metadata": {
        "id": "KlUYuV9nAJGo"
      },
      "source": [
        "![image.png](attachment:image.png)\n",
        "![image-2.png](attachment:image-2.png)"
      ]
    },
    {
      "cell_type": "markdown",
      "metadata": {
        "id": "7eJFbwIKAJGp"
      },
      "source": [
        "### Make simple 2D data"
      ]
    },
    {
      "cell_type": "code",
      "execution_count": null,
      "metadata": {
        "id": "s06q6B-CAJGp",
        "outputId": "d754e8a7-9919-4ead-eaf7-2c7b8e62d788"
      },
      "outputs": [
        {
          "data": {
            "text/plain": [
              "(20, 2)"
            ]
          },
          "execution_count": 19,
          "metadata": {},
          "output_type": "execute_result"
        }
      ],
      "source": [
        "from sklearn.datasets import make_blobs\n",
        "\n",
        "# make simple 2D data. use make_blobs(). 20 samples. 3 centers with std 0.5\n",
        "X, y = make_blobs(n_samples=20,\n",
        "                  n_features=2,\n",
        "                  centers=3,\n",
        "                  cluster_std=0.5,\n",
        "                  shuffle=True,\n",
        "                  random_state=0)\n",
        "X.shape"
      ]
    },
    {
      "cell_type": "code",
      "execution_count": null,
      "metadata": {
        "id": "OQCEx8dkAJGq",
        "outputId": "31a81c31-ecfc-4734-e98d-a0890ca31039"
      },
      "outputs": [
        {
          "data": {
            "text/plain": [
              "array([[ 1.04829186,  5.03092408],\n",
              "       [-1.72056742,  2.76673089],\n",
              "       [ 1.13280393,  3.87673946],\n",
              "       [ 2.13274123,  1.08674492],\n",
              "       [ 3.19014483,  0.17048082]])"
            ]
          },
          "execution_count": 20,
          "metadata": {},
          "output_type": "execute_result"
        }
      ],
      "source": [
        "X[:5]"
      ]
    },
    {
      "cell_type": "code",
      "execution_count": null,
      "metadata": {
        "id": "bYJ56kAVAJGq",
        "outputId": "934074b7-4887-4041-88dd-ba9f103895d5"
      },
      "outputs": [
        {
          "data": {
            "image/png": "[encoded data removed]",
            "text/plain": [
              "<Figure size 432x288 with 1 Axes>"
            ]
          },
          "metadata": {
            "needs_background": "light"
          },
          "output_type": "display_data"
        }
      ],
      "source": [
        "import matplotlib.pyplot as plt\n",
        "\n",
        "# plot the data\n",
        "plt.scatter(X[:,0],X[:,1],\n",
        "           c='white', edgecolor='black')\n",
        "\n",
        "plt.xlabel(\"x0\")\n",
        "plt.ylabel(\"x1\")\n",
        "plt.grid()\n",
        "plt.show()"
      ]
    },
    {
      "cell_type": "markdown",
      "metadata": {
        "id": "XZspfTpqAJGq"
      },
      "source": [
        "### The linkage method\n",
        "![image.png](attachment:image.png)"
      ]
    },
    {
      "cell_type": "code",
      "execution_count": null,
      "metadata": {
        "id": "FZbgHPJ-AJGq",
        "outputId": "260fbf9f-9d38-4a1f-d529-6cf9e3164e9a"
      },
      "outputs": [
        {
          "data": {
            "text/plain": [
              "(19, 4)"
            ]
          },
          "execution_count": 22,
          "metadata": {},
          "output_type": "execute_result"
        }
      ],
      "source": [
        "from scipy.cluster.hierarchy import linkage\n",
        "\n",
        "# get the linkage matrix using linkage method\n",
        "linkage_result = linkage(X)\n",
        "\n",
        "linkage_result.shape"
      ]
    },
    {
      "cell_type": "code",
      "execution_count": null,
      "metadata": {
        "id": "PHR81pG7AJGr",
        "outputId": "0f5e97e6-12a7-4b18-aa56-cd266ca35318"
      },
      "outputs": [
        {
          "data": {
            "text/html": [
              "<div>\n",
              "<style scoped>\n",
              "    .dataframe tbody tr th:only-of-type {\n",
              "        vertical-align: middle;\n",
              "    }\n",
              "\n",
              "    .dataframe tbody tr th {\n",
              "        vertical-align: top;\n",
              "    }\n",
              "\n",
              "    .dataframe thead th {\n",
              "        text-align: right;\n",
              "    }\n",
              "</style>\n",
              "<table border=\"1\" class=\"dataframe\">\n",
              "  <thead>\n",
              "    <tr style=\"text-align: right;\">\n",
              "      <th></th>\n",
              "      <th>1</th>\n",
              "      <th>2</th>\n",
              "      <th>dist</th>\n",
              "      <th>size</th>\n",
              "    </tr>\n",
              "  </thead>\n",
              "  <tbody>\n",
              "    <tr>\n",
              "      <th>cl 1</th>\n",
              "      <td>1.0</td>\n",
              "      <td>15.0</td>\n",
              "      <td>0.091375</td>\n",
              "      <td>2.0</td>\n",
              "    </tr>\n",
              "    <tr>\n",
              "      <th>cl 2</th>\n",
              "      <td>9.0</td>\n",
              "      <td>14.0</td>\n",
              "      <td>0.166047</td>\n",
              "      <td>2.0</td>\n",
              "    </tr>\n",
              "    <tr>\n",
              "      <th>cl 3</th>\n",
              "      <td>19.0</td>\n",
              "      <td>21.0</td>\n",
              "      <td>0.190751</td>\n",
              "      <td>3.0</td>\n",
              "    </tr>\n",
              "    <tr>\n",
              "      <th>cl 4</th>\n",
              "      <td>17.0</td>\n",
              "      <td>20.0</td>\n",
              "      <td>0.230171</td>\n",
              "      <td>3.0</td>\n",
              "    </tr>\n",
              "    <tr>\n",
              "      <th>cl 5</th>\n",
              "      <td>11.0</td>\n",
              "      <td>22.0</td>\n",
              "      <td>0.273322</td>\n",
              "      <td>4.0</td>\n",
              "    </tr>\n",
              "    <tr>\n",
              "      <th>cl 6</th>\n",
              "      <td>8.0</td>\n",
              "      <td>24.0</td>\n",
              "      <td>0.276232</td>\n",
              "      <td>5.0</td>\n",
              "    </tr>\n",
              "    <tr>\n",
              "      <th>cl 7</th>\n",
              "      <td>3.0</td>\n",
              "      <td>13.0</td>\n",
              "      <td>0.287897</td>\n",
              "      <td>2.0</td>\n",
              "    </tr>\n",
              "    <tr>\n",
              "      <th>cl 8</th>\n",
              "      <td>2.0</td>\n",
              "      <td>25.0</td>\n",
              "      <td>0.474246</td>\n",
              "      <td>6.0</td>\n",
              "    </tr>\n",
              "    <tr>\n",
              "      <th>cl 9</th>\n",
              "      <td>18.0</td>\n",
              "      <td>26.0</td>\n",
              "      <td>0.494529</td>\n",
              "      <td>3.0</td>\n",
              "    </tr>\n",
              "    <tr>\n",
              "      <th>cl 10</th>\n",
              "      <td>0.0</td>\n",
              "      <td>27.0</td>\n",
              "      <td>0.536283</td>\n",
              "      <td>7.0</td>\n",
              "    </tr>\n",
              "    <tr>\n",
              "      <th>cl 11</th>\n",
              "      <td>5.0</td>\n",
              "      <td>23.0</td>\n",
              "      <td>0.560051</td>\n",
              "      <td>4.0</td>\n",
              "    </tr>\n",
              "    <tr>\n",
              "      <th>cl 12</th>\n",
              "      <td>4.0</td>\n",
              "      <td>28.0</td>\n",
              "      <td>0.787742</td>\n",
              "      <td>4.0</td>\n",
              "    </tr>\n",
              "    <tr>\n",
              "      <th>cl 13</th>\n",
              "      <td>10.0</td>\n",
              "      <td>31.0</td>\n",
              "      <td>0.878796</td>\n",
              "      <td>5.0</td>\n",
              "    </tr>\n",
              "    <tr>\n",
              "      <th>cl 14</th>\n",
              "      <td>16.0</td>\n",
              "      <td>30.0</td>\n",
              "      <td>0.946692</td>\n",
              "      <td>5.0</td>\n",
              "    </tr>\n",
              "    <tr>\n",
              "      <th>cl 15</th>\n",
              "      <td>7.0</td>\n",
              "      <td>32.0</td>\n",
              "      <td>1.011008</td>\n",
              "      <td>6.0</td>\n",
              "    </tr>\n",
              "    <tr>\n",
              "      <th>cl 16</th>\n",
              "      <td>6.0</td>\n",
              "      <td>33.0</td>\n",
              "      <td>1.125289</td>\n",
              "      <td>6.0</td>\n",
              "    </tr>\n",
              "    <tr>\n",
              "      <th>cl 17</th>\n",
              "      <td>12.0</td>\n",
              "      <td>34.0</td>\n",
              "      <td>1.360956</td>\n",
              "      <td>7.0</td>\n",
              "    </tr>\n",
              "    <tr>\n",
              "      <th>cl 18</th>\n",
              "      <td>29.0</td>\n",
              "      <td>35.0</td>\n",
              "      <td>2.075611</td>\n",
              "      <td>13.0</td>\n",
              "    </tr>\n",
              "    <tr>\n",
              "      <th>cl 19</th>\n",
              "      <td>36.0</td>\n",
              "      <td>37.0</td>\n",
              "      <td>2.675791</td>\n",
              "      <td>20.0</td>\n",
              "    </tr>\n",
              "  </tbody>\n",
              "</table>\n",
              "</div>"
            ],
            "text/plain": [
              "          1     2      dist  size\n",
              "cl 1    1.0  15.0  0.091375   2.0\n",
              "cl 2    9.0  14.0  0.166047   2.0\n",
              "cl 3   19.0  21.0  0.190751   3.0\n",
              "cl 4   17.0  20.0  0.230171   3.0\n",
              "cl 5   11.0  22.0  0.273322   4.0\n",
              "cl 6    8.0  24.0  0.276232   5.0\n",
              "cl 7    3.0  13.0  0.287897   2.0\n",
              "cl 8    2.0  25.0  0.474246   6.0\n",
              "cl 9   18.0  26.0  0.494529   3.0\n",
              "cl 10   0.0  27.0  0.536283   7.0\n",
              "cl 11   5.0  23.0  0.560051   4.0\n",
              "cl 12   4.0  28.0  0.787742   4.0\n",
              "cl 13  10.0  31.0  0.878796   5.0\n",
              "cl 14  16.0  30.0  0.946692   5.0\n",
              "cl 15   7.0  32.0  1.011008   6.0\n",
              "cl 16   6.0  33.0  1.125289   6.0\n",
              "cl 17  12.0  34.0  1.360956   7.0\n",
              "cl 18  29.0  35.0  2.075611  13.0\n",
              "cl 19  36.0  37.0  2.675791  20.0"
            ]
          },
          "execution_count": 23,
          "metadata": {},
          "output_type": "execute_result"
        }
      ],
      "source": [
        "import pandas as pd\n",
        "\n",
        "# display the linkage matrix as dataframe\n",
        "pd.DataFrame(linkage_result,\n",
        "             columns=['1', '2', 'dist', 'size'],\n",
        "             index=['cl %d' % (i+1) for i in range(linkage_result.shape[0])])"
      ]
    },
    {
      "cell_type": "markdown",
      "metadata": {
        "id": "VWCGa_3HAJGr"
      },
      "source": [
        "### Display result as a dendrogram"
      ]
    },
    {
      "cell_type": "code",
      "execution_count": null,
      "metadata": {
        "id": "IIVM_DzFAJGr",
        "outputId": "34c61cad-7f6e-4879-b81c-9dda0baf323b"
      },
      "outputs": [
        {
          "data": {
            "image/png": "[encoded data removed]",
            "text/plain": [
              "<Figure size 432x288 with 1 Axes>"
            ]
          },
          "metadata": {
            "needs_background": "light"
          },
          "output_type": "display_data"
        }
      ],
      "source": [
        "from scipy.cluster.hierarchy import dendrogram\n",
        "\n",
        "# plot the clustering result as a dendrogram\n",
        "dendrogram(linkage_result)\n",
        "\n",
        "plt.ylabel('distance')\n",
        "plt.show()"
      ]
    },
    {
      "cell_type": "code",
      "execution_count": null,
      "metadata": {
        "id": "zpTbMVzWAJGr",
        "outputId": "66968646-c923-4f43-97fd-7b6d5ee97285"
      },
      "outputs": [
        {
          "data": {
            "image/png": "[encoded data removed]",
            "text/plain": [
              "<Figure size 432x288 with 1 Axes>"
            ]
          },
          "metadata": {
            "needs_background": "light"
          },
          "output_type": "display_data"
        }
      ],
      "source": [
        "# plot the clustering result as a dentrogram. last 3 clusters\n",
        "dendrogram(linkage_result, truncate_mode='lastp', p=3)\n",
        "\n",
        "plt.ylabel('distance')\n",
        "plt.show()"
      ]
    },
    {
      "cell_type": "markdown",
      "metadata": {
        "id": "pv9mGbb_AJGr"
      },
      "source": [
        "### Assign cluster numbers - cut_tree"
      ]
    },
    {
      "cell_type": "code",
      "execution_count": null,
      "metadata": {
        "id": "pIy3nruIAJGs",
        "outputId": "1d8d7711-57f9-4303-83a8-c8f3b213b460"
      },
      "outputs": [
        {
          "data": {
            "text/plain": [
              "array([[0],\n",
              "       [1],\n",
              "       [0],\n",
              "       [2],\n",
              "       [2],\n",
              "       [1],\n",
              "       [1],\n",
              "       [2],\n",
              "       [0],\n",
              "       [0],\n",
              "       [2],\n",
              "       [0],\n",
              "       [2],\n",
              "       [2],\n",
              "       [0],\n",
              "       [1],\n",
              "       [1],\n",
              "       [1],\n",
              "       [2],\n",
              "       [0]])"
            ]
          },
          "execution_count": 26,
          "metadata": {},
          "output_type": "execute_result"
        }
      ],
      "source": [
        "from scipy.cluster.hierarchy import cut_tree\n",
        "\n",
        "# from the linkage matrix, get the cut tree (an array indicating group membership)\n",
        "cluster_info = cut_tree(linkage_result, 3)\n",
        "\n",
        "cluster_info"
      ]
    },
    {
      "cell_type": "code",
      "execution_count": null,
      "metadata": {
        "id": "RgotM-UrAJGs",
        "outputId": "fd0aa322-10bc-4261-faf1-44d2acda2061"
      },
      "outputs": [
        {
          "data": {
            "text/plain": [
              "array([0, 1, 0, 2, 2, 1, 1, 2, 0, 0, 2, 0, 2, 2, 0, 1, 1, 1, 2, 0])"
            ]
          },
          "execution_count": 27,
          "metadata": {},
          "output_type": "execute_result"
        }
      ],
      "source": [
        "y_hc = np.reshape(cluster_info, (20, ))\n",
        "y_hc"
      ]
    },
    {
      "cell_type": "markdown",
      "metadata": {
        "id": "f3VTyPsvAJGs"
      },
      "source": [
        "### Plot the cluster assignment"
      ]
    },
    {
      "cell_type": "code",
      "execution_count": null,
      "metadata": {
        "id": "oL5SiymqAJGs",
        "outputId": "f87c8ec4-90dc-4010-c8d6-7ad4328988d6"
      },
      "outputs": [
        {
          "data": {
            "image/png": "[encoded data removed]",
            "text/plain": [
              "<Figure size 432x288 with 1 Axes>"
            ]
          },
          "metadata": {
            "needs_background": "light"
          },
          "output_type": "display_data"
        }
      ],
      "source": [
        "# plotting cluster assignment\n",
        "f, (ax1)= plt.subplots(1, 1, figsize=(6, 4))\n",
        "\n",
        "ax1.scatter(X[y_hc == 0, 0], X[y_hc == 0, 1],\n",
        "            c='blue', label='cluster 1')\n",
        "ax1.scatter(X[y_hc == 1, 0], X[y_hc == 1, 1],\n",
        "            c='red', label='cluster 2')\n",
        "ax1.scatter(X[y_hc == 2, 0], X[y_hc == 2, 1],\n",
        "            c='green', label='cluster 3')\n",
        "\n",
        "ax1.set_title('Hierarchical clustering, c=3')\n",
        "plt.legend()\n",
        "plt.tight_layout()\n",
        "\n",
        "plt.show()"
      ]
    },
    {
      "cell_type": "markdown",
      "metadata": {
        "id": "NhGuMhAmAJGt"
      },
      "source": [
        "---"
      ]
    },
    {
      "cell_type": "markdown",
      "metadata": {
        "id": "jfPGnkUA0JCI"
      },
      "source": [
        "# 3. DBSCAN clustering using scikit-learn"
      ]
    },
    {
      "cell_type": "markdown",
      "metadata": {
        "id": "H2D38PFlAJGt"
      },
      "source": [
        "![image-2.png](attachment:image-2.png)\n",
        "![image-3.png](attachment:image-3.png)"
      ]
    },
    {
      "cell_type": "markdown",
      "metadata": {
        "id": "rkFH-57N0JCI"
      },
      "source": [
        "### Make simple 2D data"
      ]
    },
    {
      "cell_type": "code",
      "execution_count": null,
      "metadata": {
        "id": "zdUfKsZb0JCJ",
        "outputId": "9aca0c9a-e484-427f-f537-9d5940d3ca1d"
      },
      "outputs": [
        {
          "data": {
            "text/plain": [
              "array([[ 0.81680544,  0.5216447 ],\n",
              "       [ 1.61859642, -0.37982927],\n",
              "       [-0.02126953,  0.27372826],\n",
              "       [-1.02181041, -0.07543984],\n",
              "       [ 1.76654633, -0.17069874]])"
            ]
          },
          "execution_count": 29,
          "metadata": {},
          "output_type": "execute_result"
        }
      ],
      "source": [
        "from sklearn.datasets import make_moons\n",
        "\n",
        "# make simple 2D data. use make_moon(). 200 samples with noise 0.05\n",
        "X, y = make_moons(n_samples=200, noise=0.05, random_state=0)\n",
        "\n",
        "X[:5]"
      ]
    },
    {
      "cell_type": "code",
      "execution_count": null,
      "metadata": {
        "outputId": "9aca0c9a-e484-427f-f537-9d5940d3ca1d",
        "id": "gp8cxdCWAJGu"
      },
      "outputs": [
        {
          "data": {
            "image/png": "[encoded data removed]",
            "text/plain": [
              "<Figure size 432x288 with 1 Axes>"
            ]
          },
          "metadata": {
            "needs_background": "light"
          },
          "output_type": "display_data"
        }
      ],
      "source": [
        "import matplotlib.pyplot as plt\n",
        "\n",
        "# plot the data\n",
        "plt.scatter(X[:, 0], X[:, 1])\n",
        "plt.tight_layout()\n",
        "plt.show()"
      ]
    },
    {
      "cell_type": "markdown",
      "metadata": {
        "id": "rQRyPV460JCM"
      },
      "source": [
        "### Problem of K-means clustering"
      ]
    },
    {
      "cell_type": "code",
      "execution_count": null,
      "metadata": {
        "id": "P4dlt0hk0JCM",
        "outputId": "d549ebe2-ae06-4893-889e-322d16bd8457"
      },
      "outputs": [
        {
          "data": {
            "text/plain": [
              "array([1, 1, 0, 0, 1, 1, 1, 1, 1, 1, 0, 0, 1, 1, 0, 1, 0, 1, 0, 0, 1, 1,\n",
              "       0, 1, 0, 0, 1, 1, 0, 0, 1, 0, 1, 0, 1, 1, 1, 1, 0, 0, 1, 0, 0, 0,\n",
              "       1, 0, 1, 0, 0, 1, 0, 1, 1, 0, 1, 1, 0, 1, 0, 0, 1, 0, 1, 1, 1, 0,\n",
              "       0, 1, 0, 0, 1, 0, 1, 0, 1, 0, 0, 1, 0, 1, 1, 0, 1, 1, 0, 0, 1, 0,\n",
              "       1, 1, 0, 1, 1, 0, 1, 1, 1, 1, 0, 0, 1, 1, 0, 1, 0, 0, 0, 0, 1, 0,\n",
              "       0, 0, 0, 0, 1, 1, 0, 1, 1, 1, 1, 0, 0, 0, 0, 0, 1, 0, 1, 1, 1, 0,\n",
              "       0, 0, 1, 1, 1, 0, 1, 1, 0, 0, 0, 0, 0, 1, 0, 1, 0, 0, 1, 1, 1, 0,\n",
              "       1, 0, 1, 1, 0, 0, 0, 1, 0, 1, 1, 1, 0, 1, 1, 1, 0, 0, 0, 0, 0, 1,\n",
              "       1, 0, 0, 0, 1, 0, 1, 1, 1, 0, 0, 1, 0, 0, 0, 0, 1, 1, 0, 0, 1, 0,\n",
              "       0, 1])"
            ]
          },
          "execution_count": 31,
          "metadata": {},
          "output_type": "execute_result"
        }
      ],
      "source": [
        "from sklearn.cluster import KMeans\n",
        "\n",
        "# KMeans with k = 2\n",
        "km = KMeans(n_clusters=2, random_state=0)\n",
        "y_km = km.fit_predict(X)\n",
        "\n",
        "y_km"
      ]
    },
    {
      "cell_type": "code",
      "execution_count": null,
      "metadata": {
        "id": "wjgcspCc0JCP",
        "outputId": "cf41d6ca-c595-430d-a35b-00d3bb3d3919"
      },
      "outputs": [
        {
          "data": {
            "image/png": "[encoded data removed]",
            "text/plain": [
              "<Figure size 432x288 with 1 Axes>"
            ]
          },
          "metadata": {
            "needs_background": "light"
          },
          "output_type": "display_data"
        }
      ],
      "source": [
        "# plotting cluster assignment\n",
        "f, (ax1)= plt.subplots(1, 1, figsize=(6, 4))\n",
        "\n",
        "ax1.scatter(X[y_km == 0, 0], X[y_km == 0, 1],\n",
        "            c='blue', marker='o', s=40, label='cluster 1')\n",
        "ax1.scatter(X[y_km == 1, 0], X[y_km == 1, 1],\n",
        "            c='red', marker='s', s=40, label='cluster 2')\n",
        "\n",
        "ax1.set_title('K-means clustering')\n",
        "\n",
        "plt.legend()\n",
        "plt.tight_layout()\n",
        "plt.show()"
      ]
    },
    {
      "cell_type": "markdown",
      "metadata": {
        "id": "3bCV31d30JCR"
      },
      "source": [
        "### Density based clustering. Low density - all data into 1 cluster"
      ]
    },
    {
      "cell_type": "code",
      "execution_count": null,
      "metadata": {
        "id": "UIy4seO60JCS",
        "outputId": "8ce1b3b4-5396-41f4-dfd8-027b35ce6197"
      },
      "outputs": [
        {
          "data": {
            "text/plain": [
              "array([0, 0, 0, 0, 0, 0, 0, 0, 0, 0, 0, 0, 0, 0, 0, 0, 0, 0, 0, 0, 0, 0,\n",
              "       0, 0, 0, 0, 0, 0, 0, 0, 0, 0, 0, 0, 0, 0, 0, 0, 0, 0, 0, 0, 0, 0,\n",
              "       0, 0, 0, 0, 0, 0, 0, 0, 0, 0, 0, 0, 0, 0, 0, 0, 0, 0, 0, 0, 0, 0,\n",
              "       0, 0, 0, 0, 0, 0, 0, 0, 0, 0, 0, 0, 0, 0, 0, 0, 0, 0, 0, 0, 0, 0,\n",
              "       0, 0, 0, 0, 0, 0, 0, 0, 0, 0, 0, 0, 0, 0, 0, 0, 0, 0, 0, 0, 0, 0,\n",
              "       0, 0, 0, 0, 0, 0, 0, 0, 0, 0, 0, 0, 0, 0, 0, 0, 0, 0, 0, 0, 0, 0,\n",
              "       0, 0, 0, 0, 0, 0, 0, 0, 0, 0, 0, 0, 0, 0, 0, 0, 0, 0, 0, 0, 0, 0,\n",
              "       0, 0, 0, 0, 0, 0, 0, 0, 0, 0, 0, 0, 0, 0, 0, 0, 0, 0, 0, 0, 0, 0,\n",
              "       0, 0, 0, 0, 0, 0, 0, 0, 0, 0, 0, 0, 0, 0, 0, 0, 0, 0, 0, 0, 0, 0,\n",
              "       0, 0], dtype=int64)"
            ]
          },
          "execution_count": 33,
          "metadata": {},
          "output_type": "execute_result"
        }
      ],
      "source": [
        "from sklearn.cluster import DBSCAN\n",
        "\n",
        "# DBSCAN with eps = 0.4, min_samples = 10\n",
        "db = DBSCAN(eps=0.4, min_samples=10, metric='euclidean')\n",
        "y_db = db.fit_predict(X)\n",
        "\n",
        "y_db"
      ]
    },
    {
      "cell_type": "code",
      "execution_count": null,
      "metadata": {
        "id": "XK38t5w80JCU",
        "outputId": "74d002d5-3d23-4cd2-a7a1-c057e61bc48a"
      },
      "outputs": [
        {
          "data": {
            "image/png": "[encoded data removed]",
            "text/plain": [
              "<Figure size 432x288 with 1 Axes>"
            ]
          },
          "metadata": {
            "needs_background": "light"
          },
          "output_type": "display_data"
        }
      ],
      "source": [
        "# plotting clusters\n",
        "plt.scatter(X[y_db == 0, 0], X[y_db == 0, 1],\n",
        "            c='blue', marker='o', s=40,\n",
        "            label='cluster 1')\n",
        "plt.scatter(X[y_db == 1, 0], X[y_db == 1, 1],\n",
        "            c='red', marker='s', s=40,\n",
        "            label='cluster 2')\n",
        "\n",
        "plt.title('Density based clustering(DBSCAN)')\n",
        "plt.legend()\n",
        "plt.tight_layout()\n",
        "plt.show()"
      ]
    },
    {
      "cell_type": "markdown",
      "metadata": {
        "id": "QCOalge3AJGv"
      },
      "source": [
        "### Density based clustering. High density -  no cluster"
      ]
    },
    {
      "cell_type": "code",
      "execution_count": null,
      "metadata": {
        "outputId": "8ce1b3b4-5396-41f4-dfd8-027b35ce6197",
        "id": "F0D4PvlUAJGv"
      },
      "outputs": [
        {
          "data": {
            "text/plain": [
              "array([-1, -1, -1, -1, -1, -1, -1, -1, -1, -1, -1, -1, -1, -1, -1, -1, -1,\n",
              "       -1, -1, -1, -1, -1, -1, -1, -1, -1, -1, -1, -1, -1, -1, -1, -1, -1,\n",
              "       -1, -1, -1, -1, -1, -1, -1, -1, -1, -1, -1, -1, -1, -1, -1, -1, -1,\n",
              "       -1, -1, -1, -1, -1, -1, -1, -1, -1, -1, -1, -1, -1, -1, -1, -1, -1,\n",
              "       -1, -1, -1, -1, -1, -1, -1, -1, -1, -1, -1, -1, -1, -1, -1, -1, -1,\n",
              "       -1, -1, -1, -1, -1, -1, -1, -1, -1, -1, -1, -1, -1, -1, -1, -1, -1,\n",
              "       -1, -1, -1, -1, -1, -1, -1, -1, -1, -1, -1, -1, -1, -1, -1, -1, -1,\n",
              "       -1, -1, -1, -1, -1, -1, -1, -1, -1, -1, -1, -1, -1, -1, -1, -1, -1,\n",
              "       -1, -1, -1, -1, -1, -1, -1, -1, -1, -1, -1, -1, -1, -1, -1, -1, -1,\n",
              "       -1, -1, -1, -1, -1, -1, -1, -1, -1, -1, -1, -1, -1, -1, -1, -1, -1,\n",
              "       -1, -1, -1, -1, -1, -1, -1, -1, -1, -1, -1, -1, -1, -1, -1, -1, -1,\n",
              "       -1, -1, -1, -1, -1, -1, -1, -1, -1, -1, -1, -1, -1], dtype=int64)"
            ]
          },
          "execution_count": 35,
          "metadata": {},
          "output_type": "execute_result"
        }
      ],
      "source": [
        "from sklearn.cluster import DBSCAN\n",
        "\n",
        "# DBSCAN with eps = 0.1, min_samples = 10\n",
        "\n",
        "db = DBSCAN(eps=0.1, min_samples=10, metric='euclidean')\n",
        "y_db = db.fit_predict(X)\n",
        "\n",
        "y_db"
      ]
    },
    {
      "cell_type": "code",
      "execution_count": null,
      "metadata": {
        "outputId": "74d002d5-3d23-4cd2-a7a1-c057e61bc48a",
        "id": "ig94eEOVAJGw"
      },
      "outputs": [
        {
          "data": {
            "image/png": "[encoded data removed]",
            "text/plain": [
              "<Figure size 432x288 with 1 Axes>"
            ]
          },
          "metadata": {
            "needs_background": "light"
          },
          "output_type": "display_data"
        }
      ],
      "source": [
        "# plotting clusters\n",
        "plt.scatter(X[y_db == 0, 0], X[y_db == 0, 1],\n",
        "            c='blue', marker='o', s=40,\n",
        "            label='cluster 1')\n",
        "plt.scatter(X[y_db == 1, 0], X[y_db == 1, 1],\n",
        "            c='red', marker='s', s=40,\n",
        "            label='cluster 2')\n",
        "\n",
        "plt.title('Density based clustering(DBSCAN)')\n",
        "plt.legend()\n",
        "plt.tight_layout()\n",
        "plt.show()"
      ]
    },
    {
      "cell_type": "markdown",
      "metadata": {
        "id": "TGNnm94xAJGw"
      },
      "source": [
        "### Density based clustering - 2 clusters, no unclustered data"
      ]
    },
    {
      "cell_type": "code",
      "execution_count": null,
      "metadata": {
        "outputId": "8ce1b3b4-5396-41f4-dfd8-027b35ce6197",
        "id": "7CtqhRpIAJGw"
      },
      "outputs": [
        {
          "data": {
            "text/plain": [
              "array([0, 1, 1, 0, 1, 1, 0, 1, 0, 1, 0, 1, 1, 1, 0, 0, 0, 1, 0, 0, 1, 1,\n",
              "       0, 1, 0, 1, 1, 1, 1, 0, 0, 0, 1, 1, 0, 1, 1, 0, 0, 1, 1, 0, 0, 1,\n",
              "       1, 0, 0, 0, 1, 1, 0, 1, 1, 0, 1, 0, 0, 1, 0, 0, 1, 0, 1, 0, 1, 0,\n",
              "       0, 1, 0, 0, 1, 0, 1, 1, 1, 0, 1, 0, 0, 1, 1, 0, 1, 1, 1, 0, 0, 0,\n",
              "       1, 1, 0, 0, 1, 0, 1, 1, 1, 1, 0, 1, 1, 1, 0, 0, 0, 1, 0, 0, 1, 0,\n",
              "       0, 0, 0, 0, 0, 1, 0, 1, 1, 0, 0, 0, 1, 0, 1, 0, 0, 1, 1, 1, 0, 0,\n",
              "       0, 1, 1, 1, 1, 0, 1, 0, 1, 1, 0, 0, 0, 0, 1, 1, 0, 1, 1, 1, 0, 0,\n",
              "       1, 0, 1, 1, 0, 0, 1, 1, 0, 1, 1, 1, 0, 1, 1, 1, 0, 0, 0, 0, 1, 1,\n",
              "       1, 0, 0, 0, 1, 0, 1, 1, 1, 0, 0, 1, 0, 0, 0, 0, 0, 0, 1, 0, 1, 1,\n",
              "       0, 1], dtype=int64)"
            ]
          },
          "execution_count": 37,
          "metadata": {},
          "output_type": "execute_result"
        }
      ],
      "source": [
        "from sklearn.cluster import DBSCAN\n",
        "\n",
        "# DBSCAN with eps = 0.2, min_samples = 5\n",
        "db = DBSCAN(eps=0.2, min_samples=5, metric='euclidean')\n",
        "y_db = db.fit_predict(X)\n",
        "\n",
        "y_db"
      ]
    },
    {
      "cell_type": "code",
      "execution_count": null,
      "metadata": {
        "outputId": "74d002d5-3d23-4cd2-a7a1-c057e61bc48a",
        "id": "GuNVFZ1kAJGw"
      },
      "outputs": [
        {
          "data": {
            "image/png": "[encoded data removed]",
            "text/plain": [
              "<Figure size 432x288 with 1 Axes>"
            ]
          },
          "metadata": {
            "needs_background": "light"
          },
          "output_type": "display_data"
        }
      ],
      "source": [
        "# plotting clusters\n",
        "plt.scatter(X[y_db == 0, 0], X[y_db == 0, 1],\n",
        "            c='blue', marker='o', s=40,\n",
        "            label='cluster 1')\n",
        "plt.scatter(X[y_db == 1, 0], X[y_db == 1, 1],\n",
        "            c='red', marker='s', s=40,\n",
        "            label='cluster 2')\n",
        "\n",
        "plt.title('Density based clustering(DBSCAN)')\n",
        "plt.legend()\n",
        "plt.tight_layout()\n",
        "plt.show()"
      ]
    },
    {
      "cell_type": "markdown",
      "metadata": {
        "id": "i3qDEnBM0JCW"
      },
      "source": [
        "### Outlier Detection"
      ]
    },
    {
      "cell_type": "code",
      "execution_count": null,
      "metadata": {
        "id": "81e7Xzhq0JCX"
      },
      "outputs": [],
      "source": [
        "# make sample outliers\n",
        "X[0] = [1.0, 1.0]\n",
        "X[1] = [-0.5, -0.5]"
      ]
    },
    {
      "cell_type": "code",
      "execution_count": null,
      "metadata": {
        "id": "wWAftRXd0JCZ",
        "outputId": "162b4e02-5974-446c-8278-815f8c53fb2a"
      },
      "outputs": [
        {
          "data": {
            "text/plain": [
              "array([-1, -1,  0,  1,  0,  0,  1,  0,  1,  0,  1,  0,  0,  0,  1,  1,  1,\n",
              "        0,  1,  1,  0,  0,  1,  0,  1,  0,  0,  0,  0,  1,  1,  1,  0,  0,\n",
              "        1,  0,  0,  1,  1,  0,  0,  1,  1,  0,  0,  1,  1,  1,  0,  0,  1,\n",
              "        0,  0,  1,  0,  1,  1,  0,  1,  1,  0,  1,  0,  1,  0,  1,  1,  0,\n",
              "        1,  1,  0,  1,  0,  0,  0,  1,  0,  1,  1,  0,  0,  1,  0,  0,  0,\n",
              "        1,  1,  1,  0,  0,  1,  1,  0,  1,  0,  0,  0,  0,  1,  0,  0,  0,\n",
              "        1,  1,  1,  0,  1,  1,  0,  1,  1,  1,  1,  1,  1,  0,  1,  0,  0,\n",
              "        1,  1,  1,  0,  1,  0,  1,  1,  0,  0,  0,  1,  1,  1,  0,  0,  0,\n",
              "        0,  1,  0,  1,  0,  0,  1,  1,  1,  1,  0,  0,  1,  0,  0,  0,  1,\n",
              "        1,  0,  1,  0,  0,  1,  1,  0,  0,  1,  0,  0,  0,  1,  0,  0,  0,\n",
              "        1,  1,  1,  1,  0,  0,  0,  1,  1,  1,  0,  1,  0,  0,  0,  1,  1,\n",
              "        0,  1,  1,  1,  1,  1,  1,  0,  1,  0,  0,  1,  0], dtype=int64)"
            ]
          },
          "execution_count": 40,
          "metadata": {},
          "output_type": "execute_result"
        }
      ],
      "source": [
        "# DBSCAN with eps = 0.2, min_samples = 5\n",
        "db = DBSCAN(eps=0.2, min_samples=5, metric='euclidean')\n",
        "y_db = db.fit_predict(X)\n",
        "\n",
        "y_db"
      ]
    },
    {
      "cell_type": "code",
      "execution_count": null,
      "metadata": {
        "id": "70xjza7c0JCb",
        "outputId": "8fc91215-8cac-4493-ff16-fee0cd11f7a4"
      },
      "outputs": [
        {
          "data": {
            "text/plain": [
              "array([[ 1. ,  1. ],\n",
              "       [-0.5, -0.5]])"
            ]
          },
          "execution_count": 41,
          "metadata": {},
          "output_type": "execute_result"
        }
      ],
      "source": [
        "# find data that is not clustered (-1) - outlier\n",
        "outlier_idxs = (y_db == -1)\n",
        "\n",
        "X[outlier_idxs]"
      ]
    },
    {
      "cell_type": "code",
      "execution_count": null,
      "metadata": {
        "id": "FN_1z-LL0JCe",
        "outputId": "3a03f769-2c88-417d-d21a-ceaeadbbfa44"
      },
      "outputs": [
        {
          "data": {
            "image/png": "[encoded data removed]",
            "text/plain": [
              "<Figure size 432x288 with 1 Axes>"
            ]
          },
          "metadata": {
            "needs_background": "light"
          },
          "output_type": "display_data"
        }
      ],
      "source": [
        "# plotting outliers\n",
        "plt.scatter(X[~outlier_idxs, 0],\n",
        "            X[~outlier_idxs, 1],\n",
        "            alpha=0.5, color='b', label='normal')\n",
        "plt.scatter(X[outlier_idxs, 0],\n",
        "            X[outlier_idxs, 1],\n",
        "            color='r', label='outliers')\n",
        "\n",
        "plt.title(\"Detecting outliers using DBSCAN\")\n",
        "plt.legend()\n",
        "plt.show()"
      ]
    },
    {
      "cell_type": "markdown",
      "metadata": {
        "id": "DeqJvGRV0JCg"
      },
      "source": [
        "---"
      ]
    },
    {
      "cell_type": "markdown",
      "metadata": {
        "id": "RXe6mROp0JCg"
      },
      "source": [
        "# Quiz 1 : K-means Clustering"
      ]
    },
    {
      "cell_type": "markdown",
      "metadata": {
        "id": "fAuilwhg0JCh"
      },
      "source": [
        "### Figure out the structure of unlabeled data\n",
        "\n",
        "\n",
        "- **Motor Trend Dataset(mtcars)**  \n",
        "   - The data was extracted from the 1974 Motor Trend US magazine, and comprises fuel consumption and 10 aspects of automobile design and performance for 32 automobiles (1973–74 models).\n",
        "  - https://stat.ethz.ch/R-manual/R-devel/library/datasets/html/mtcars.html\n",
        "\n",
        "\n",
        "\n",
        "- **Goal** :\n",
        "    - We would like to recommend the products that meet the needs of customers by classifying the cars in the list into several clusters according to their features.\n",
        "    - After clustering, Explain each cluster based on its features\n",
        "\n",
        "\n",
        "- **Categorical feature** :\n",
        "   - **Nominal feature**\n",
        "      - vs : Engine(0 = V-shaped, 1 = straight)\n",
        "      - am : Transmission(0 = automatic, 1 = manual)\n",
        "\n",
        "\n",
        "\n",
        "- **Numeric feature**  \n",
        "    - mpg : Miles/US Gallon, the determinant of fuel efficiency\n",
        "    - cyl : Number of cylinders\n",
        "    - disp : Displacement (cu.in.)\n",
        "    - hp : Gross horsepower\n",
        "    - drat : Rear axle ratio\n",
        "    - wt : Weight (1000 lbs)\n",
        "    - qsec : 1/4 mile time\n",
        "    - gear : Number of forward gears\n",
        "    - carb : Number of carburetors\n",
        "\n",
        "\n",
        "- We will use 'mpg', 'cyl', 'disp', 'hp', 'drat', 'wt', 'qsec' features."
      ]
    },
    {
      "cell_type": "markdown",
      "metadata": {
        "id": "fi2kOwXT0JCh"
      },
      "source": [
        "### Load the dataset"
      ]
    },
    {
      "cell_type": "code",
      "execution_count": null,
      "metadata": {
        "id": "8O_HL12s0JCh",
        "jupyter": {
          "outputs_hidden": true
        }
      },
      "outputs": [],
      "source": [
        "import pandas as pd\n",
        "import numpy as np\n",
        "\n",
        "df = pd.read_csv(\"cars.csv\")"
      ]
    },
    {
      "cell_type": "code",
      "execution_count": null,
      "metadata": {
        "id": "RAy2Nh900JCj",
        "outputId": "aa9bbe0c-01c7-492b-d076-9bf1c58274c1"
      },
      "outputs": [
        {
          "data": {
            "text/html": [
              "<div>\n",
              "<style scoped>\n",
              "    .dataframe tbody tr th:only-of-type {\n",
              "        vertical-align: middle;\n",
              "    }\n",
              "\n",
              "    .dataframe tbody tr th {\n",
              "        vertical-align: top;\n",
              "    }\n",
              "\n",
              "    .dataframe thead th {\n",
              "        text-align: right;\n",
              "    }\n",
              "</style>\n",
              "<table border=\"1\" class=\"dataframe\">\n",
              "  <thead>\n",
              "    <tr style=\"text-align: right;\">\n",
              "      <th></th>\n",
              "      <th>Unnamed: 0</th>\n",
              "      <th>mpg</th>\n",
              "      <th>cyl</th>\n",
              "      <th>disp</th>\n",
              "      <th>hp</th>\n",
              "      <th>drat</th>\n",
              "      <th>wt</th>\n",
              "      <th>qsec</th>\n",
              "      <th>vs</th>\n",
              "      <th>am</th>\n",
              "      <th>gear</th>\n",
              "      <th>carb</th>\n",
              "    </tr>\n",
              "  </thead>\n",
              "  <tbody>\n",
              "    <tr>\n",
              "      <th>0</th>\n",
              "      <td>Mazda RX4</td>\n",
              "      <td>21.0</td>\n",
              "      <td>6</td>\n",
              "      <td>160.0</td>\n",
              "      <td>110</td>\n",
              "      <td>3.90</td>\n",
              "      <td>2.620</td>\n",
              "      <td>16.46</td>\n",
              "      <td>0</td>\n",
              "      <td>1</td>\n",
              "      <td>4</td>\n",
              "      <td>4</td>\n",
              "    </tr>\n",
              "    <tr>\n",
              "      <th>1</th>\n",
              "      <td>Mazda RX4 Wag</td>\n",
              "      <td>21.0</td>\n",
              "      <td>6</td>\n",
              "      <td>160.0</td>\n",
              "      <td>110</td>\n",
              "      <td>3.90</td>\n",
              "      <td>2.875</td>\n",
              "      <td>17.02</td>\n",
              "      <td>0</td>\n",
              "      <td>1</td>\n",
              "      <td>4</td>\n",
              "      <td>4</td>\n",
              "    </tr>\n",
              "    <tr>\n",
              "      <th>2</th>\n",
              "      <td>Datsun 710</td>\n",
              "      <td>22.8</td>\n",
              "      <td>4</td>\n",
              "      <td>108.0</td>\n",
              "      <td>93</td>\n",
              "      <td>3.85</td>\n",
              "      <td>2.320</td>\n",
              "      <td>18.61</td>\n",
              "      <td>1</td>\n",
              "      <td>1</td>\n",
              "      <td>4</td>\n",
              "      <td>1</td>\n",
              "    </tr>\n",
              "    <tr>\n",
              "      <th>3</th>\n",
              "      <td>Hornet 4 Drive</td>\n",
              "      <td>21.4</td>\n",
              "      <td>6</td>\n",
              "      <td>258.0</td>\n",
              "      <td>110</td>\n",
              "      <td>3.08</td>\n",
              "      <td>3.215</td>\n",
              "      <td>19.44</td>\n",
              "      <td>1</td>\n",
              "      <td>0</td>\n",
              "      <td>3</td>\n",
              "      <td>1</td>\n",
              "    </tr>\n",
              "    <tr>\n",
              "      <th>4</th>\n",
              "      <td>Hornet Sportabout</td>\n",
              "      <td>18.7</td>\n",
              "      <td>8</td>\n",
              "      <td>360.0</td>\n",
              "      <td>175</td>\n",
              "      <td>3.15</td>\n",
              "      <td>3.440</td>\n",
              "      <td>17.02</td>\n",
              "      <td>0</td>\n",
              "      <td>0</td>\n",
              "      <td>3</td>\n",
              "      <td>2</td>\n",
              "    </tr>\n",
              "  </tbody>\n",
              "</table>\n",
              "</div>"
            ],
            "text/plain": [
              "          Unnamed: 0   mpg  cyl   disp   hp  drat     wt   qsec  vs  am  gear  \\\n",
              "0          Mazda RX4  21.0    6  160.0  110  3.90  2.620  16.46   0   1     4   \n",
              "1      Mazda RX4 Wag  21.0    6  160.0  110  3.90  2.875  17.02   0   1     4   \n",
              "2         Datsun 710  22.8    4  108.0   93  3.85  2.320  18.61   1   1     4   \n",
              "3     Hornet 4 Drive  21.4    6  258.0  110  3.08  3.215  19.44   1   0     3   \n",
              "4  Hornet Sportabout  18.7    8  360.0  175  3.15  3.440  17.02   0   0     3   \n",
              "\n",
              "   carb  \n",
              "0     4  \n",
              "1     4  \n",
              "2     1  \n",
              "3     1  \n",
              "4     2  "
            ]
          },
          "execution_count": 44,
          "metadata": {},
          "output_type": "execute_result"
        }
      ],
      "source": [
        "df.head()"
      ]
    },
    {
      "cell_type": "code",
      "execution_count": null,
      "metadata": {
        "id": "k9oZg7V50JCl",
        "jupyter": {
          "outputs_hidden": true
        }
      },
      "outputs": [],
      "source": [
        "# select 'mpg', 'cyl', 'disp', 'hp', 'drat', 'wt', 'qsec' features.\n",
        "df_num = df.iloc[:, 1:8]"
      ]
    },
    {
      "cell_type": "markdown",
      "metadata": {
        "id": "QhvZPeFb0JCn"
      },
      "source": [
        "### Standardization and Demensionality reduction"
      ]
    },
    {
      "cell_type": "code",
      "execution_count": null,
      "metadata": {
        "id": "tH-2TNGF0JCo",
        "jupyter": {
          "outputs_hidden": true
        }
      },
      "outputs": [],
      "source": [
        "from sklearn.preprocessing import StandardScaler\n",
        "\n",
        "# standardizing the data\n",
        "sc = StandardScaler()\n",
        "X = sc.fit_transform(df_num)"
      ]
    },
    {
      "cell_type": "code",
      "execution_count": null,
      "metadata": {
        "id": "8psagDf40JCq",
        "jupyter": {
          "outputs_hidden": true
        },
        "outputId": "b2f965a1-568e-4eed-a50d-7507b48984d6"
      },
      "outputs": [
        {
          "data": {
            "text/plain": [
              "array([[ 0.80852001,  0.91916508],\n",
              "       [ 0.78129846,  0.59522599],\n",
              "       [ 2.07853424, -0.05286221],\n",
              "       [ 0.14565907, -1.30918116],\n",
              "       [-1.62973608,  0.01334843],\n",
              "       [-0.13545277, -2.04510079],\n",
              "       [-2.51415204,  0.81170285],\n",
              "       [ 1.9693768 , -1.23121726],\n",
              "       [ 2.2454573 , -2.11090368],\n",
              "       [ 0.51265211, -0.08757471],\n",
              "       [ 0.49708778, -0.36277857],\n",
              "       [-1.7813681 , -0.3779445 ],\n",
              "       [-1.55330978, -0.33675764],\n",
              "       [-1.66518049, -0.55327953],\n",
              "       [-3.51049813, -1.23097488],\n",
              "       [-3.57487381, -1.1033438 ],\n",
              "       [-3.1703241 , -0.56188333],\n",
              "       [ 3.31395167, -0.16380441],\n",
              "       [ 3.90863191,  1.06545097],\n",
              "       [ 3.74546223, -0.08436959],\n",
              "       [ 1.9608558 , -0.83209785],\n",
              "       [-1.86166949, -0.42317992],\n",
              "       [-1.49543373, -0.2402238 ],\n",
              "       [-2.39023353,  1.34054673],\n",
              "       [-1.938008  , -0.2146938 ],\n",
              "       [ 2.98796957,  0.09621491],\n",
              "       [ 2.4476604 ,  1.34198375],\n",
              "       [ 2.58140383,  1.09246983],\n",
              "       [-1.87246263,  2.49935537],\n",
              "       [ 0.02841386,  1.3557959 ],\n",
              "       [-2.7397306 ,  2.12032992],\n",
              "       [ 1.81949822,  0.07058165]])"
            ]
          },
          "execution_count": 47,
          "metadata": {},
          "output_type": "execute_result"
        }
      ],
      "source": [
        "from sklearn.decomposition import PCA\n",
        "\n",
        "# reduce the dimension of data to 2\n",
        "pca = PCA(n_components=2)\n",
        "X_pca = pca.fit_transform(X)\n",
        "\n",
        "X_pca"
      ]
    },
    {
      "cell_type": "code",
      "execution_count": null,
      "metadata": {
        "id": "r_7L8Z_W0JCu",
        "outputId": "f63aaab8-1f61-49cf-cded-b8fdfdfd68e0"
      },
      "outputs": [
        {
          "data": {
            "text/plain": [
              "array([0.7265857 , 0.16522365])"
            ]
          },
          "execution_count": 48,
          "metadata": {},
          "output_type": "execute_result"
        }
      ],
      "source": [
        "#explained variance\n",
        "pca.explained_variance_ratio_"
      ]
    },
    {
      "cell_type": "markdown",
      "metadata": {
        "id": "oAYszZfP0JCz"
      },
      "source": [
        "### Using the elbow method to find the optimal number of clusters"
      ]
    },
    {
      "cell_type": "code",
      "execution_count": null,
      "metadata": {
        "id": "GDQmWOOX0JCz",
        "outputId": "b22a00e7-575a-426a-cb90-6aadcbdb7a6f"
      },
      "outputs": [
        {
          "name": "stderr",
          "output_type": "stream",
          "text": [
            "C:\\Users\\win\\anaconda3\\lib\\site-packages\\sklearn\\cluster\\_kmeans.py:1036: UserWarning: KMeans is known to have a memory leak on Windows with MKL, when there are less chunks than available threads. You can avoid it by setting the environment variable OMP_NUM_THREADS=1.\n",
            "  warnings.warn(\n"
          ]
        },
        {
          "data": {
            "image/png": "[encoded data removed]",
            "text/plain": [
              "<Figure size 432x288 with 1 Axes>"
            ]
          },
          "metadata": {
            "needs_background": "light"
          },
          "output_type": "display_data"
        }
      ],
      "source": [
        "# Find appropriate k value by plotting distortions for k = 1 to 11\n",
        "distortions = []\n",
        "for i in range(1, 11):\n",
        "    km = KMeans(n_clusters=i,\n",
        "                init='k-means++',\n",
        "                n_init=10,\n",
        "                max_iter=300,\n",
        "                random_state=0)\n",
        "    km.fit(X_pca)\n",
        "    distortions.append(km.inertia_)\n",
        "\n",
        "plt.plot(range(1, 11), distortions, marker='o')\n",
        "plt.xlabel('Number of clusters')\n",
        "plt.ylabel('Distortion')\n",
        "plt.tight_layout()\n",
        "\n",
        "plt.show()"
      ]
    },
    {
      "cell_type": "markdown",
      "metadata": {
        "id": "wiCL3xbg0JC2"
      },
      "source": [
        "### Quantifying the quality of clustering via silhouette plots"
      ]
    },
    {
      "cell_type": "code",
      "execution_count": null,
      "metadata": {
        "id": "3sML_ryF0JC3",
        "outputId": "a59ac409-6037-4592-92d7-f5209e2e78ee"
      },
      "outputs": [
        {
          "data": {
            "image/png": "[encoded data removed]",
            "text/plain": [
              "<Figure size 432x288 with 1 Axes>"
            ]
          },
          "metadata": {
            "needs_background": "light"
          },
          "output_type": "display_data"
        }
      ],
      "source": [
        "# plotting silhouette scores for k = 1 to 11\n",
        "silhouette_scores = []\n",
        "for i in range(2, 11):\n",
        "    km = KMeans(n_clusters=i,\n",
        "                init='k-means++',\n",
        "                max_iter=300,\n",
        "                random_state=0)\n",
        "    y_km = km.fit_predict(X_pca)\n",
        "    silhouette_scores.append(silhouette_score(X_pca, y_km, metric='euclidean'))\n",
        "\n",
        "plt.plot(range(2, 11), silhouette_scores, marker='o')\n",
        "plt.xlabel('Number of clusters')\n",
        "plt.ylabel('Silhouette score')\n",
        "plt.tight_layout()\n",
        "\n",
        "plt.show()"
      ]
    },
    {
      "cell_type": "markdown",
      "metadata": {
        "id": "AYffnll80JC7"
      },
      "source": [
        "### K-means clustering with k = 2"
      ]
    },
    {
      "cell_type": "code",
      "execution_count": null,
      "metadata": {
        "id": "9JwFg_KP0JC8",
        "outputId": "fbd644b1-662b-4ca0-c629-daa75ebd7bf0"
      },
      "outputs": [
        {
          "data": {
            "text/plain": [
              "array([0, 0, 0, 0, 1, 0, 1, 0, 0, 0, 0, 1, 1, 1, 1, 1, 1, 0, 0, 0, 0, 1,\n",
              "       1, 1, 1, 0, 0, 0, 1, 0, 1, 0])"
            ]
          },
          "execution_count": 51,
          "metadata": {},
          "output_type": "execute_result"
        }
      ],
      "source": [
        "from sklearn.cluster import KMeans\n",
        "\n",
        "# Set n_clusters=k, which have been found\n",
        "km = KMeans(n_clusters=2,\n",
        "            init='k-means++',\n",
        "            max_iter=300,\n",
        "            random_state=0)\n",
        "\n",
        "y_km = km.fit_predict(X_pca)\n",
        "y_km"
      ]
    },
    {
      "cell_type": "markdown",
      "metadata": {
        "id": "Tqr58_S90JC-"
      },
      "source": [
        "### PCA Biplot\n",
        "- The cosine of the angle between a vector and an axis indicates the importance of the contribution of the corresponding variable to the principal component.\n",
        "- The cosine of the angle between pairs of vectors indicates correlation between the corresponding variables. Highly correlated variables point in similar directions; uncorrelated variables are nearly perpendicular to each other."
      ]
    },
    {
      "cell_type": "code",
      "execution_count": null,
      "metadata": {
        "id": "yik2rMay0JC_",
        "jupyter": {
          "outputs_hidden": true
        }
      },
      "outputs": [],
      "source": [
        "# https://stackoverflow.com/questions/39216897/plot-pca-loadings-and-loading-in-biplot-in-sklearn-like-rs-autoplot\n",
        "from matplotlib import cm\n",
        "\n",
        "def biplot(score,coeff,labels=None, y_km=None):\n",
        "    plt.figure(figsize=(5,5))\n",
        "    xs = score[:,0]\n",
        "    ys = score[:,1]\n",
        "    n = coeff.shape[0]\n",
        "    n_km = np.unique(y_km).shape[0]\n",
        "    scalex = 1.0/(xs.max() - xs.min())\n",
        "    scaley = 1.0/(ys.max() - ys.min())\n",
        "    for k in range(n_km):\n",
        "        color = np.array(cm.jet(float(k) / n_km)).reshape(1,-1)\n",
        "        plt.scatter(xs[y_km==k] * scalex,\n",
        "                    ys[y_km==k] * scaley,\n",
        "                    c = color, label=\"Cluster \"+str(k+1))\n",
        "\n",
        "    for i in range(n):\n",
        "        plt.arrow(0, 0, coeff[i,0], coeff[i,1],\n",
        "                  color = 'r',alpha = 0.5)\n",
        "        if labels is None:\n",
        "            plt.text(coeff[i,0]* 1.15, coeff[i,1] * 1.15,\n",
        "                     \"Var\"+str(i+1), color = 'red',\n",
        "                     ha = 'center', va = 'center', size=10)\n",
        "        else:\n",
        "            plt.text(coeff[i,0]* 1.15, coeff[i,1] * 1.15,\n",
        "                     labels[i], color = 'red',\n",
        "                     ha = 'center', va = 'center', size=10)\n",
        "    plt.xlim(xs.min()* scalex-0.6,xs.max()* scalex+0.6)\n",
        "    plt.ylim(ys.min()* scalex-0.6,ys.max()* scalex+0.6)\n",
        "\n",
        "    plt.legend()\n",
        "    plt.xlabel(\"PC{}\".format(1))\n",
        "    plt.ylabel(\"PC{}\".format(2))\n",
        "    plt.grid()"
      ]
    },
    {
      "cell_type": "code",
      "execution_count": null,
      "metadata": {
        "id": "nu3UY0_S0JDB",
        "outputId": "992cb83c-7df1-4a19-ae58-26a75ea3a183"
      },
      "outputs": [
        {
          "data": {
            "image/png": "[encoded data removed]",
            "text/plain": [
              "<Figure size 360x360 with 1 Axes>"
            ]
          },
          "metadata": {
            "needs_background": "light"
          },
          "output_type": "display_data"
        }
      ],
      "source": [
        "# Call the biplot function. Use only the 2 PCs.\n",
        "biplot(X_pca, np.transpose(pca.components_[0:2, :]), df_num.columns, y_km)\n",
        "\n",
        "plt.show()"
      ]
    },
    {
      "cell_type": "markdown",
      "metadata": {
        "id": "lni74uFi0JDD"
      },
      "source": [
        "### Explain each cluster\n",
        "- **e.g.**\n",
        "  - Cluster 0 : Suitable for customers who value the stability and power of the vehicle body rather than fuel economy.\n",
        "  - Cluster 1 : Suitable for customers who value the fuel economy"
      ]
    },
    {
      "cell_type": "markdown",
      "metadata": {
        "id": "fX_pXs4lAJG2"
      },
      "source": [
        "---"
      ]
    },
    {
      "cell_type": "markdown",
      "metadata": {
        "id": "hLTk7E6J0JDE"
      },
      "source": [
        "# Quiz 2 : DBSCAN\n",
        "### Detecting outliers using DBSCAN\n",
        "- **Goal** : Detect & Remove outliers from the iris dataset"
      ]
    },
    {
      "cell_type": "markdown",
      "metadata": {
        "id": "NPkowHUN0JDE"
      },
      "source": [
        "### Load the dataset"
      ]
    },
    {
      "cell_type": "code",
      "execution_count": null,
      "metadata": {
        "id": "yNGyyTDr0JDE",
        "outputId": "c7aa123a-ecde-47e8-9b34-22e2e03ac8d7"
      },
      "outputs": [
        {
          "data": {
            "text/plain": [
              "(150, 4)"
            ]
          },
          "execution_count": 54,
          "metadata": {},
          "output_type": "execute_result"
        }
      ],
      "source": [
        "import pandas as pd\n",
        "from sklearn.datasets import load_iris\n",
        "\n",
        "# load iris dataset\n",
        "iris = load_iris()\n",
        "X = iris.data\n",
        "y = iris.target\n",
        "\n",
        "X.shape"
      ]
    },
    {
      "cell_type": "markdown",
      "metadata": {
        "id": "u3ijddUO0JDG"
      },
      "source": [
        "### Split the data set"
      ]
    },
    {
      "cell_type": "code",
      "execution_count": null,
      "metadata": {
        "id": "zjdYiyEd0JDG",
        "jupyter": {
          "outputs_hidden": true
        }
      },
      "outputs": [],
      "source": [
        "from sklearn.model_selection import train_test_split\n",
        "\n",
        "# split dataset to 70% training and 30% test\n",
        "X_train, X_test, y_train, y_test = train_test_split(X, y,\n",
        "                                                    test_size=0.3,\n",
        "                                                    random_state=1)"
      ]
    },
    {
      "cell_type": "code",
      "execution_count": null,
      "metadata": {
        "id": "-sYUipqV0JDI",
        "outputId": "1ec0663d-20c3-43ca-84aa-2db316b8e3a3"
      },
      "outputs": [
        {
          "data": {
            "image/png": "[encoded data removed]",
            "text/plain": [
              "<Figure size 432x288 with 1 Axes>"
            ]
          },
          "metadata": {
            "needs_background": "light"
          },
          "output_type": "display_data"
        }
      ],
      "source": [
        "import matplotlib.pyplot as plt\n",
        "\n",
        "# scatter plot - feature 1 and 2\n",
        "plt.scatter(X_train[:,1],X_train[:,2])\n",
        "\n",
        "plt.xlabel(\"Sepal Width\")\n",
        "plt.ylabel(\"Petal Length\")\n",
        "plt.grid()\n",
        "plt.show()"
      ]
    },
    {
      "cell_type": "markdown",
      "metadata": {
        "id": "t7a1_lQjAJG4"
      },
      "source": [
        "### Detecting outliers using DBSCAN"
      ]
    },
    {
      "cell_type": "code",
      "execution_count": null,
      "metadata": {
        "id": "RA2maI-H0JDK"
      },
      "outputs": [],
      "source": [
        "from sklearn.cluster import DBSCAN\n",
        "\n",
        "# Make and fit a DBSCAN object\n",
        "# Find appropriate parameters(eps, min_samples)\n",
        "db = DBSCAN(eps = .6, min_samples = 3)\n",
        "y_db = db.fit_predict(X_train)"
      ]
    },
    {
      "cell_type": "code",
      "execution_count": null,
      "metadata": {
        "id": "bdoadL0V0JDN",
        "outputId": "087f60e6-da31-42e3-8990-5b82e68d3de3"
      },
      "outputs": [
        {
          "data": {
            "text/plain": [
              "array([ 0,  1,  1,  1,  2,  1,  1, -1,  2,  0,  2,  2,  2,  0,  2,  1,  2,\n",
              "        2,  1,  1,  2,  1,  2,  2,  2,  2,  2,  2,  1,  2,  2,  2,  3,  2,\n",
              "        2,  1,  1,  1,  2,  1,  2,  2,  2,  1,  1,  2,  1,  0,  2,  0,  2,\n",
              "        2,  2, -1,  2, -1,  2, -1,  2,  2,  1,  2,  1,  1,  2,  2,  2,  1,\n",
              "        1,  2,  1,  2,  1,  2, -1,  1,  2,  1,  2,  1,  2,  3,  1,  1,  3,\n",
              "        1,  2,  2,  1,  2,  2,  2,  2,  2,  1,  1,  2,  2,  0,  2,  2,  2,\n",
              "        2,  2,  1], dtype=int64)"
            ]
          },
          "execution_count": 58,
          "metadata": {},
          "output_type": "execute_result"
        }
      ],
      "source": [
        "# check the labels, -1 means outlier\n",
        "y_db"
      ]
    },
    {
      "cell_type": "code",
      "execution_count": null,
      "metadata": {
        "id": "kZHlAbn90JDQ",
        "outputId": "cdcbae7e-2c66-4aae-8c1c-0fc9e923b688"
      },
      "outputs": [
        {
          "data": {
            "text/plain": [
              "array([[7.7, 3.8, 6.7, 2.2],\n",
              "       [7.2, 3.6, 6.1, 2.5],\n",
              "       [5.7, 4.4, 1.5, 0.4],\n",
              "       [4.5, 2.3, 1.3, 0.3],\n",
              "       [4.9, 2.5, 4.5, 1.7]])"
            ]
          },
          "execution_count": 59,
          "metadata": {},
          "output_type": "execute_result"
        }
      ],
      "source": [
        "# find data that is not clustered (-1) - outlier\n",
        "outlier_idxs = (y_db == -1)\n",
        "X_train[outlier_idxs]"
      ]
    },
    {
      "cell_type": "code",
      "execution_count": null,
      "metadata": {
        "id": "yk6p1Tsi0JDS",
        "outputId": "c285c247-f7e8-4d5a-a06e-844912451478"
      },
      "outputs": [
        {
          "data": {
            "image/png": "[encoded data removed]",
            "text/plain": [
              "<Figure size 432x288 with 1 Axes>"
            ]
          },
          "metadata": {
            "needs_background": "light"
          },
          "output_type": "display_data"
        }
      ],
      "source": [
        "# plotting outliers in feature 1 and 2\n",
        "plt.scatter(X_train[~outlier_idxs, 1],\n",
        "            X_train[~outlier_idxs, 2],\n",
        "            alpha=0.5, color='b', label='normal')\n",
        "plt.scatter(X_train[outlier_idxs, 1],\n",
        "            X_train[outlier_idxs, 2],\n",
        "            color='r', label='outliers')\n",
        "\n",
        "plt.legend()\n",
        "plt.xlabel(\"Sepal Width\")\n",
        "plt.ylabel(\"Petal Length\")\n",
        "plt.title(\"Detecting outliers using DBSCAN\")\n",
        "plt.grid()\n",
        "plt.show()"
      ]
    },
    {
      "cell_type": "code",
      "execution_count": null,
      "metadata": {
        "id": "3vMJVJkYAJG5"
      },
      "outputs": [],
      "source": []
    }
  ],
  "metadata": {
    "colab": {
      "provenance": [],
      "include_colab_link": true
    },
    "kernelspec": {
      "display_name": "Python 3 (ipykernel)",
      "language": "python",
      "name": "python3"
    },
    "language_info": {
      "codemirror_mode": {
        "name": "ipython",
        "version": 3
      },
      "file_extension": ".py",
      "mimetype": "text/x-python",
      "name": "python",
      "nbconvert_exporter": "python",
      "pygments_lexer": "ipython3",
      "version": "3.9.12"
    }
  },
  "nbformat": 4,
  "nbformat_minor": 0
}